{
  "nbformat": 4,
  "nbformat_minor": 0,
  "metadata": {
    "colab": {
      "name": "Trial - Topic Modelling.ipynb",
      "provenance": [],
      "collapsed_sections": []
    },
    "kernelspec": {
      "name": "python3",
      "display_name": "Python 3"
    }
  },
  "cells": [
    {
      "cell_type": "code",
      "metadata": {
        "id": "OCa10u-Piw0l"
      },
      "source": [
        "from google.colab import drive\n",
        "drive.mount(\"/content/drive/\", force_remount=True)"
      ],
      "execution_count": null,
      "outputs": []
    },
    {
      "cell_type": "code",
      "metadata": {
        "id": "8nIlr8M0jSr5"
      },
      "source": [
        "%cd \"drive/My Drive/CZ4032 (Local)\"\n",
        "!ls"
      ],
      "execution_count": null,
      "outputs": []
    },
    {
      "cell_type": "code",
      "metadata": {
        "id": "DQtaIeZVdyDu"
      },
      "source": [
        "!pip install pyLDAvis"
      ],
      "execution_count": null,
      "outputs": []
    },
    {
      "cell_type": "code",
      "metadata": {
        "id": "xLpb0ncgjYAT"
      },
      "source": [
        "import re\n",
        "import pickle \n",
        "import pyLDAvis\n",
        "import pandas as pd\n",
        "import seaborn as sns\n",
        "import numpy as np\n",
        "import matplotlib.pyplot as plt\n",
        "\n",
        "from wordcloud import WordCloud\n",
        "from pyLDAvis import sklearn as sklearn_lda\n",
        "from sklearn.feature_extraction.text import CountVectorizer\n",
        "from sklearn.decomposition import LatentDirichletAllocation\n",
        "from sklearn.model_selection import GridSearchCV\n",
        "\n",
        "import warnings\n",
        "warnings.simplefilter(\"ignore\", DeprecationWarning)\n",
        "warnings.simplefilter(\"ignore\", category=FutureWarning)\n",
        "\n",
        "%matplotlib inline"
      ],
      "execution_count": null,
      "outputs": []
    },
    {
      "cell_type": "code",
      "metadata": {
        "id": "w-0R0ZHtj-NW",
        "colab": {
          "base_uri": "https://localhost:8080/"
        },
        "outputId": "8cbccf39-ae92-40fa-b796-2ed5e2eeaa5d"
      },
      "source": [
        "reviews_df = pd.read_csv('./yelp_review.csv')\n",
        "reviews_df = reviews_df.drop(reviews_df.columns[0], axis=1)\n",
        "print(reviews_df.shape)\n",
        "\n",
        "reviews_df_trunc = reviews_df.head(10000)\n",
        "print(reviews_df_trunc.shape)"
      ],
      "execution_count": null,
      "outputs": [
        {
          "output_type": "stream",
          "text": [
            "(1778047, 9)\n",
            "(10000, 9)\n"
          ],
          "name": "stdout"
        }
      ]
    },
    {
      "cell_type": "markdown",
      "metadata": {
        "id": "SA95k33oeBz9"
      },
      "source": [
        "### Pre-processing\n",
        "\n",
        "- Drop unrequired columns\n",
        "- Remove punctation\n",
        "- Lowercase texts"
      ]
    },
    {
      "cell_type": "code",
      "metadata": {
        "id": "Vomf-HNgeG-m",
        "colab": {
          "base_uri": "https://localhost:8080/",
          "height": 203
        },
        "outputId": "3f07245b-2df2-479d-9aa5-6d8c295bb301"
      },
      "source": [
        "# Drop unrequired columns\n",
        "try:\n",
        "    reviews_df_trunc = reviews_df_trunc.drop('date', axis=1)\n",
        "except Exception:\n",
        "    print('Date column already removed')\n",
        "try:\n",
        "    reviews_df_trunc = reviews_df_trunc.drop('user_id', axis=1)\n",
        "except Exception:\n",
        "    print(\"User ID column already removed\")\n",
        "\n",
        "# Remove punctuation\n",
        "reviews_df_trunc['text_processed'] = reviews_df_trunc['text'].map(lambda x: re.sub('[,\\.!?]', '', x))\n",
        "\n",
        "# Convert reviews to lowercase\n",
        "reviews_df_trunc['text_processed'] = reviews_df_trunc['text_processed'].map(lambda x: x.lower())\n",
        "\n",
        "reviews_df_trunc.head()"
      ],
      "execution_count": null,
      "outputs": [
        {
          "output_type": "execute_result",
          "data": {
            "text/html": [
              "<div>\n",
              "<style scoped>\n",
              "    .dataframe tbody tr th:only-of-type {\n",
              "        vertical-align: middle;\n",
              "    }\n",
              "\n",
              "    .dataframe tbody tr th {\n",
              "        vertical-align: top;\n",
              "    }\n",
              "\n",
              "    .dataframe thead th {\n",
              "        text-align: right;\n",
              "    }\n",
              "</style>\n",
              "<table border=\"1\" class=\"dataframe\">\n",
              "  <thead>\n",
              "    <tr style=\"text-align: right;\">\n",
              "      <th></th>\n",
              "      <th>review_id</th>\n",
              "      <th>business_id</th>\n",
              "      <th>stars</th>\n",
              "      <th>useful</th>\n",
              "      <th>funny</th>\n",
              "      <th>cool</th>\n",
              "      <th>text</th>\n",
              "      <th>text_processed</th>\n",
              "    </tr>\n",
              "  </thead>\n",
              "  <tbody>\n",
              "    <tr>\n",
              "      <th>0</th>\n",
              "      <td>i6g_oA9Yf9Y31qt0wibXpw</td>\n",
              "      <td>5JxlZaqCnk1MnbgRirs40Q</td>\n",
              "      <td>1.0</td>\n",
              "      <td>0.0</td>\n",
              "      <td>0.0</td>\n",
              "      <td>0.0</td>\n",
              "      <td>Dismal, lukewarm, defrosted-tasting \"TexMex\" g...</td>\n",
              "      <td>dismal lukewarm defrosted-tasting \"texmex\" glo...</td>\n",
              "    </tr>\n",
              "    <tr>\n",
              "      <th>1</th>\n",
              "      <td>bVTjZgRNq8ToxzvtiVrqMA</td>\n",
              "      <td>d4qwVw4PcN-_2mK2o1Ro1g</td>\n",
              "      <td>1.0</td>\n",
              "      <td>0.0</td>\n",
              "      <td>0.0</td>\n",
              "      <td>0.0</td>\n",
              "      <td>10pm on a super bowl Sunday and they're alread...</td>\n",
              "      <td>10pm on a super bowl sunday and they're alread...</td>\n",
              "    </tr>\n",
              "    <tr>\n",
              "      <th>2</th>\n",
              "      <td>TeX0eOIeZb_wpo86rCedXQ</td>\n",
              "      <td>d4qwVw4PcN-_2mK2o1Ro1g</td>\n",
              "      <td>5.0</td>\n",
              "      <td>0.0</td>\n",
              "      <td>0.0</td>\n",
              "      <td>0.0</td>\n",
              "      <td>Holy heck this place is amazing. I love their ...</td>\n",
              "      <td>holy heck this place is amazing i love their c...</td>\n",
              "    </tr>\n",
              "    <tr>\n",
              "      <th>3</th>\n",
              "      <td>XvLG7ReC8JZmBltOLJzfcA</td>\n",
              "      <td>XZbuPXdyA0ZtTu3AzqtQhg</td>\n",
              "      <td>4.0</td>\n",
              "      <td>0.0</td>\n",
              "      <td>1.0</td>\n",
              "      <td>0.0</td>\n",
              "      <td>As the previous person posted, what more can r...</td>\n",
              "      <td>as the previous person posted what more can re...</td>\n",
              "    </tr>\n",
              "    <tr>\n",
              "      <th>4</th>\n",
              "      <td>WGbtqQMeJwTVg6DFb156EQ</td>\n",
              "      <td>PL3cimEUfNHlenOGSOAdJg</td>\n",
              "      <td>4.0</td>\n",
              "      <td>3.0</td>\n",
              "      <td>0.0</td>\n",
              "      <td>1.0</td>\n",
              "      <td>This was our choice, by default, for New Year'...</td>\n",
              "      <td>this was our choice by default for new year's ...</td>\n",
              "    </tr>\n",
              "  </tbody>\n",
              "</table>\n",
              "</div>"
            ],
            "text/plain": [
              "                review_id  ...                                     text_processed\n",
              "0  i6g_oA9Yf9Y31qt0wibXpw  ...  dismal lukewarm defrosted-tasting \"texmex\" glo...\n",
              "1  bVTjZgRNq8ToxzvtiVrqMA  ...  10pm on a super bowl sunday and they're alread...\n",
              "2  TeX0eOIeZb_wpo86rCedXQ  ...  holy heck this place is amazing i love their c...\n",
              "3  XvLG7ReC8JZmBltOLJzfcA  ...  as the previous person posted what more can re...\n",
              "4  WGbtqQMeJwTVg6DFb156EQ  ...  this was our choice by default for new year's ...\n",
              "\n",
              "[5 rows x 8 columns]"
            ]
          },
          "metadata": {
            "tags": []
          },
          "execution_count": 6
        }
      ]
    },
    {
      "cell_type": "markdown",
      "metadata": {
        "id": "72ZQUeoIiNMV"
      },
      "source": [
        "### Exploratory Analysis"
      ]
    },
    {
      "cell_type": "code",
      "metadata": {
        "id": "_P3hxJlFiPE_",
        "colab": {
          "base_uri": "https://localhost:8080/",
          "height": 217
        },
        "outputId": "87076558-c5ac-4599-ac2c-bd2f5df4f916"
      },
      "source": [
        "long_string = ','.join(list(reviews_df_trunc['text_processed'].values))\n",
        "wordcloud = WordCloud(background_color=\"white\", max_words=5000, contour_width=3, contour_color='steelblue')\n",
        "wordcloud.generate(long_string)\n",
        "wordcloud.to_image()"
      ],
      "execution_count": null,
      "outputs": [
        {
          "output_type": "execute_result",
          "data": {
            "image/png": "[encoded data removed]",
            "text/plain": [
              "<PIL.Image.Image image mode=RGB size=400x200 at 0x7FEA5FF4B5C0>"
            ]
          },
          "metadata": {
            "tags": []
          },
          "execution_count": 7
        }
      ]
    },
    {
      "cell_type": "markdown",
      "metadata": {
        "id": "dAAmYm7PeHVb"
      },
      "source": [
        "### Prepare text for LDA"
      ]
    },
    {
      "cell_type": "code",
      "metadata": {
        "id": "8D1h02cdkHEo",
        "colab": {
          "base_uri": "https://localhost:8080/",
          "height": 608
        },
        "outputId": "7451a945-8bb7-4f0a-9e18-35f4dc585706"
      },
      "source": [
        "def plot_top_common_words(count_data, count_vectorizer, top=10):\n",
        "    words = count_vectorizer.get_feature_names()\n",
        "    total_counts = np.zeros(len(words))\n",
        "    for t in count_data:\n",
        "        total_counts += t.toarray()[0]\n",
        "    count_dict = (zip(words, total_counts))\n",
        "    count_dict = sorted(count_dict, key=lambda x: x[1], reverse=True)[0:10]\n",
        "\n",
        "    words = [w[0] for w in count_dict]\n",
        "    counts = [w[1] for w in count_dict]\n",
        "    x_pos = np.arange(len(words))\n",
        "\n",
        "    plt.figure(2, figsize=(15, 15/1.6180))\n",
        "    plt.subplot(title='10 most common words')\n",
        "    sns.set_style('whitegrid')\n",
        "    sns.set_context(\"notebook\", font_scale=1.25, rc={\"lines.linewidth\": 2.5})\n",
        "    sns.barplot(x_pos, counts, palette='husl')\n",
        "    plt.xticks(x_pos, words, rotation=90) \n",
        "    plt.xlabel('words')\n",
        "    plt.ylabel('counts')\n",
        "    plt.show()\n",
        "\n",
        "# Initialise the count vectorizer with the English stop words\n",
        "count_vect = CountVectorizer(max_df=0.8, min_df=2, stop_words='english')\n",
        "\n",
        "# Fit and transform the processed texts\n",
        "doc_term_matrix = count_vect.fit_transform(reviews_df_trunc['text_processed'])\n",
        "                                           \n",
        "plot_top_common_words(doc_term_matrix, count_vect)"
      ],
      "execution_count": null,
      "outputs": [
        {
          "output_type": "display_data",
          "data": {
            "image/png": "[encoded data removed]",
            "text/plain": [
              "<Figure size 1080x667.491 with 1 Axes>"
            ]
          },
          "metadata": {
            "tags": [],
            "needs_background": "light"
          }
        }
      ]
    },
    {
      "cell_type": "markdown",
      "metadata": {
        "id": "LDU9WyHzl7yQ"
      },
      "source": [
        "### Train LDA Model"
      ]
    },
    {
      "cell_type": "code",
      "metadata": {
        "id": "wTAi8-5ALhKh"
      },
      "source": [
        "def print_topics(model, count_vectorizer, n_top_words=10):\n",
        "    words = count_vectorizer.get_feature_names()\n",
        "    for idx, topic in enumerate(model.components_):\n",
        "        print(f\"Topic #{idx}:\")\n",
        "        print(\" \".join([words[i] for i in topic.argsort()[:-n_top_words - 1: -1]]))"
      ],
      "execution_count": null,
      "outputs": []
    },
    {
      "cell_type": "code",
      "metadata": {
        "id": "HZzZDtzek4LL"
      },
      "source": [
        "search_params = {\n",
        "    'n_components': [3, 4, 5, 6, 7],\n",
        "    'learning_decay': [0.5, 0.7, 0.9]\n",
        "}\n",
        "\n",
        "\n",
        "num_topics = 5\n",
        "num_words = 10\n",
        "\n",
        "LDA = LatentDirichletAllocation(\n",
        "    learning_method='online',\n",
        "    learning_offset=50,\n",
        "    max_iter=5,\n",
        "    n_jobs=-1,\n",
        "    random_state=42,\n",
        "    # learning_decay=0.9,\n",
        "    # n_components=3,\n",
        ")\n",
        "\n",
        "model = GridSearchCV(LDA, param_grid=search_params)\n",
        "model.fit(doc_term_matrix)\n",
        "\n",
        "best_lda_model = model.best_estimator_"
      ],
      "execution_count": null,
      "outputs": []
    },
    {
      "cell_type": "code",
      "metadata": {
        "id": "R9HEX2r29ukH",
        "colab": {
          "base_uri": "https://localhost:8080/"
        },
        "outputId": "d4696162-dc0e-43ac-c3a5-3e37eef6ef1d"
      },
      "source": [
        "print(\"Best Model Params: \", model.best_params_)\n",
        "print(\"Best Log Likehood: \", model.best_score_)\n",
        "print(\"Model perplexity: \", best_lda_model.perplexity(doc_term_matrix))"
      ],
      "execution_count": null,
      "outputs": [
        {
          "output_type": "stream",
          "text": [
            "Best Model Params:  {'learning_decay': 0.9, 'n_components': 3}\n",
            "Best Log Likehood:  -749266.2207829411\n",
            "Model perplexity:  2092.7258155646396\n"
          ],
          "name": "stdout"
        }
      ]
    },
    {
      "cell_type": "code",
      "metadata": {
        "id": "aoyKQ6RkR57a",
        "colab": {
          "base_uri": "https://localhost:8080/",
          "height": 526
        },
        "outputId": "651f1893-f724-488e-f0fb-bbb0bcaee1d0"
      },
      "source": [
        "# Get Log Likelihoods from Grid Search Output\n",
        "n_topics = [3, 4, 5, 6, 7]\n",
        "log_likelihoods_5 = [round(model.cv_results_['mean_test_score'][x]) for x in range(0,5)]\n",
        "log_likelihoods_7 = [round(model.cv_results_['mean_test_score'][x]) for x in range(5,10)]\n",
        "log_likelihoods_9 = [round(model.cv_results_['mean_test_score'][x]) for x in range(10,15)]\n",
        "\n",
        "# Show graph\n",
        "plt.figure(figsize=(12, 8))\n",
        "plt.plot(n_topics, log_likelihoods_5, label='0.5')\n",
        "plt.plot(n_topics, log_likelihoods_7, label='0.7')\n",
        "plt.plot(n_topics, log_likelihoods_9, label='0.9')\n",
        "plt.title(\"Choosing Optimal LDA Model\")\n",
        "plt.xlabel(\"Num Topics\")\n",
        "plt.ylabel(\"Log Likelihood Scores\")\n",
        "plt.legend(title='Learning decay', loc='best')\n",
        "plt.show()"
      ],
      "execution_count": null,
      "outputs": [
        {
          "output_type": "display_data",
          "data": {
            "image/png": "[encoded data removed]",
            "text/plain": [
              "<Figure size 864x576 with 1 Axes>"
            ]
          },
          "metadata": {
            "tags": []
          }
        }
      ]
    },
    {
      "cell_type": "code",
      "metadata": {
        "id": "IKZPonA1I00p",
        "colab": {
          "base_uri": "https://localhost:8080/"
        },
        "outputId": "d7805743-d6f9-4c93-948f-f780b4605b38"
      },
      "source": [
        "print_topics(best_lda_model, count_vect, n_top_words=30)"
      ],
      "execution_count": null,
      "outputs": [
        {
          "output_type": "stream",
          "text": [
            "Topic #0:\n",
            "good chicken rice food place beef tea fried meat spicy try like soup korean delicious bbq love thai pork really dishes best ordered favorite sauce great roll pho noodles ve\n",
            "Topic #1:\n",
            "food place great good service time vegas just like really nice best restaurant friendly staff definitely amazing don come love ve bar people drinks night order experience got pizza little\n",
            "Topic #2:\n",
            "good ordered just like got came order cheese didn time steak food sauce bread meal fries service really chicken ve asked said table restaurant salad did delicious cooked dish went\n"
          ],
          "name": "stdout"
        }
      ]
    },
    {
      "cell_type": "code",
      "metadata": {
        "id": "XKqGq4yXKSlC"
      },
      "source": [
        "pickle.dump(best_lda_model, open('./lda_model_02112020.pk', 'wb'))"
      ],
      "execution_count": null,
      "outputs": []
    },
    {
      "cell_type": "markdown",
      "metadata": {
        "id": "rSG_a81BLcav"
      },
      "source": [
        "### Load pre-saved model"
      ]
    },
    {
      "cell_type": "code",
      "metadata": {
        "id": "GbQ7s2ZoIzqT",
        "colab": {
          "base_uri": "https://localhost:8080/"
        },
        "outputId": "33e148e3-a514-4110-9321-84add3c53095"
      },
      "source": [
        "# Load pre-saved model\n",
        "best_lda_model = pickle.load(open('./lda_model_02112020.pk', 'rb'))\n",
        "print(best_lda_model)\n",
        "print(\"Model Log likehood: \", best_lda_model.score(doc_term_matrix))\n",
        "print(\"Model perplexity:   \", best_lda_model.perplexity(doc_term_matrix))"
      ],
      "execution_count": null,
      "outputs": [
        {
          "output_type": "stream",
          "text": [
            "LatentDirichletAllocation(batch_size=128, doc_topic_prior=None,\n",
            "                          evaluate_every=-1, learning_decay=0.9,\n",
            "                          learning_method='online', learning_offset=50,\n",
            "                          max_doc_update_iter=100, max_iter=5,\n",
            "                          mean_change_tol=0.001, n_components=3, n_jobs=-1,\n",
            "                          perp_tol=0.1, random_state=42, topic_word_prior=None,\n",
            "                          total_samples=1000000.0, verbose=0)\n",
            "Model Log likehood:  -3552870.907237554\n",
            "Model perplexity:    2092.7258155646396\n"
          ],
          "name": "stdout"
        }
      ]
    },
    {
      "cell_type": "markdown",
      "metadata": {
        "id": "B1Gjjw6Y6DiB"
      },
      "source": [
        "### Analyze results"
      ]
    },
    {
      "cell_type": "code",
      "metadata": {
        "id": "O6Y0Fq0b6Fa_"
      },
      "source": [
        "import os\n",
        "\n",
        "LDAvis_data_filepath = os.path.join('./ldavis_prepared_09112020')\n",
        "LDAvis_prepared = sklearn_lda.prepare(best_lda_model, doc_term_matrix, count_vect)\n",
        "pyLDAvis.save_html(LDAvis_prepared, './ldavis_prepared_09112020' + '.html')"
      ],
      "execution_count": null,
      "outputs": []
    },
    {
      "cell_type": "markdown",
      "metadata": {
        "id": "YoEPgfOwM27z"
      },
      "source": [
        "https://medium.com/@yanlinc/how-to-build-a-lda-topic-model-using-from-text-601cdcbfd3a6"
      ]
    },
    {
      "cell_type": "markdown",
      "metadata": {
        "id": "htNmor-eNdjt"
      },
      "source": [
        "### Assign topics to each review"
      ]
    },
    {
      "cell_type": "code",
      "metadata": {
        "id": "RS0ZMAM8NhJv",
        "colab": {
          "base_uri": "https://localhost:8080/"
        },
        "outputId": "7d6c9437-e086-4b92-a572-7538062bcc9a"
      },
      "source": [
        "topic_values = best_lda_model.transform(doc_term_matrix)\n",
        "print(topic_values.shape)\n",
        "\n",
        "reviews_df_trunc['topic'] = topic_values.argmax(axis=1)\n",
        "\n",
        "reviews_df_trunc.to_csv(\"./reviews_LDA.csv\")"
      ],
      "execution_count": null,
      "outputs": [
        {
          "output_type": "stream",
          "text": [
            "(10000, 3)\n"
          ],
          "name": "stdout"
        }
      ]
    },
    {
      "cell_type": "markdown",
      "metadata": {
        "id": "Z7R2Dsi5OM9f"
      },
      "source": [
        "### Doing analysis on the topics"
      ]
    },
    {
      "cell_type": "code",
      "metadata": {
        "id": "PjLOw8cFL2vs",
        "colab": {
          "base_uri": "https://localhost:8080/",
          "height": 1000
        },
        "outputId": "6ca57d07-1c5d-4b3e-c208-ea19459b8a36"
      },
      "source": [
        "print_topics(best_lda_model, count_vect, n_top_words=20)\n",
        "\n",
        "pd.set_option('display.max_colwidth', None)\n",
        "\n",
        "topic = 1\n",
        "\n",
        "'''\n",
        "Topic 0: Food                   (1318)\n",
        "  - KW: Chicken, rice, beef, noodles, tea, fried\n",
        "  - Examples:\n",
        "    - The best crab rangoon And the food was delicious. It was the best Thai food to get delivery from.\n",
        "    - What a find ! Great food. We had the veggie combo and the meat combo. Genuine Ethiopian food. Highly recommended.\n",
        "    - with that pricw. the foos is horrible. i ordered a sushi platter.and the taste is soso,the eel sushi is highly fishy\n",
        "Topic 1: Place, Staff           (6223)\n",
        "  - KW: Place, friendly, staff, experience, restaurant\n",
        "  - Examples:\n",
        "    - Very unique ambiance and interesting back story. It was really crowded and loud when I was there so it wasn't very conducive for studying. Other than that, it was nice.\n",
        "    - Excellent food, atmosphere and attention to detail. Thank you Carmen (server) for t he great suggestions!\\nBeautiful decor and upscale music and feel.\n",
        "    - It's 108 so we stopped for a beer.. The allure of the place is the live music. We came before that. Wasn't impressed..\t\n",
        "Topic 2: Service, Efficiency    (2459)\n",
        "  - KW: Order, service, came, time\n",
        "  - Examples:\n",
        "    - Waited over 30 minutes to be seated. Ordered steaks. Not very good. Tough and chewy. Salad and bread were the best part of the meal. Will not be back.\n",
        "    - I literally waited 20 minuets for sake and spice chicken. They said pull up to wait no one was behind me. Once I had a bite my chicken patty was cold. Smh\n",
        "    - The Acai bowls, smoothies and panini are quite yummy but unless you have 20-25 minutes to wait this may not be the best option. \\nThe best way around the wait is to order before, online.\t\n",
        "'''\n",
        "\n",
        "# Try to analyze what each topic is talking about, filtering for reviews less than 200 words\n",
        "# for succinct topics, long reviews tend to go on a tangent to cover a lot of things\n",
        "mask = (reviews_df_trunc['topic'] == topic) & (reviews_df_trunc['text'].str.len() <= 200)\n",
        "topic_df = reviews_df_trunc.loc[mask]\n",
        "print()\n",
        "print(f'Topic {topic}: {topic_df.shape}')\n",
        "topic_df[['text', 'stars']][100:150]"
      ],
      "execution_count": null,
      "outputs": [
        {
          "output_type": "stream",
          "text": [
            "Topic #0:\n",
            "good chicken rice food place beef tea fried meat spicy try like soup korean delicious bbq love thai pork really\n",
            "Topic #1:\n",
            "food place great good service time vegas just like really nice best restaurant friendly staff definitely amazing don come love\n",
            "Topic #2:\n",
            "good ordered just like got came order cheese didn time steak food sauce bread meal fries service really chicken ve\n",
            "\n",
            "Topic 1: (1558, 9)\n"
          ],
          "name": "stdout"
        },
        {
          "output_type": "execute_result",
          "data": {
            "text/html": [
              "<div>\n",
              "<style scoped>\n",
              "    .dataframe tbody tr th:only-of-type {\n",
              "        vertical-align: middle;\n",
              "    }\n",
              "\n",
              "    .dataframe tbody tr th {\n",
              "        vertical-align: top;\n",
              "    }\n",
              "\n",
              "    .dataframe thead th {\n",
              "        text-align: right;\n",
              "    }\n",
              "</style>\n",
              "<table border=\"1\" class=\"dataframe\">\n",
              "  <thead>\n",
              "    <tr style=\"text-align: right;\">\n",
              "      <th></th>\n",
              "      <th>text</th>\n",
              "      <th>stars</th>\n",
              "    </tr>\n",
              "  </thead>\n",
              "  <tbody>\n",
              "    <tr>\n",
              "      <th>702</th>\n",
              "      <td>loved my burrito, but these girls next to me hated their tacos, at pink taco? lol i guess you have to know what to order and not expect authentic Mexican food :]</td>\n",
              "      <td>4.0</td>\n",
              "    </tr>\n",
              "    <tr>\n",
              "      <th>703</th>\n",
              "      <td>Delicious food and wonderful staff.  Had the salmon burger and shrimp sliders (yum).  Great fries.  Dina and VIda were terrific servers.</td>\n",
              "      <td>5.0</td>\n",
              "    </tr>\n",
              "    <tr>\n",
              "      <th>707</th>\n",
              "      <td>This is one of the best New York style pizza I ever had and the guys are very nice. I definitely will come back to this place.</td>\n",
              "      <td>5.0</td>\n",
              "    </tr>\n",
              "    <tr>\n",
              "      <th>714</th>\n",
              "      <td>My first stop when I hit the city. It's like eating at grandmas kitchen table.great customer service always.never disappointed!live this place.</td>\n",
              "      <td>5.0</td>\n",
              "    </tr>\n",
              "    <tr>\n",
              "      <th>721</th>\n",
              "      <td>Dimsum - very good\\nIndian - excellent\\nService and ambiance - very good\\nGreat dining experience.\\nA must with every Vegas visit.\\nThe Asst Manager- F&amp;B, Mr. Tony Dochev is awesome.</td>\n",
              "      <td>5.0</td>\n",
              "    </tr>\n",
              "    <tr>\n",
              "      <th>725</th>\n",
              "      <td>Sunday brunch. Good service, moderate prices, and great food. Tried the steak and egg tacos, monkey bread (a must if you have a sweet tooth) with a bloody mary.</td>\n",
              "      <td>5.0</td>\n",
              "    </tr>\n",
              "    <tr>\n",
              "      <th>731</th>\n",
              "      <td>Great restaurant that not many people know about. Worth the drive. Cool owner with great prices. Can't beat it. As good as roscoes in LA.</td>\n",
              "      <td>5.0</td>\n",
              "    </tr>\n",
              "    <tr>\n",
              "      <th>739</th>\n",
              "      <td>Not sure why all the bad reviews. I've been ordering pizza from this location for a decade and have never had a problem.</td>\n",
              "      <td>5.0</td>\n",
              "    </tr>\n",
              "    <tr>\n",
              "      <th>744</th>\n",
              "      <td>Ok.....service is crazy slow even @ 2:30 they had two waiters for the entire place....One of the rolls we got tasted like it was canned tuna. House salad was good though....</td>\n",
              "      <td>2.0</td>\n",
              "    </tr>\n",
              "    <tr>\n",
              "      <th>766</th>\n",
              "      <td>great pit stop</td>\n",
              "      <td>5.0</td>\n",
              "    </tr>\n",
              "    <tr>\n",
              "      <th>767</th>\n",
              "      <td>Great service from Ron by the bar! Thanks for the house margarita!!</td>\n",
              "      <td>5.0</td>\n",
              "    </tr>\n",
              "    <tr>\n",
              "      <th>769</th>\n",
              "      <td>Stopped in on a Saturday night for drinks. I had the French Onion soup &amp; it was delicious! Drinks were good, service was excellent &amp; great prices. Would go back. :)</td>\n",
              "      <td>5.0</td>\n",
              "    </tr>\n",
              "    <tr>\n",
              "      <th>771</th>\n",
              "      <td>Had and excellent dining experience! Delicious steak frites and thanks to the amazing waitstaff led at our table by Jerry a wonderful anniversary dinner !!</td>\n",
              "      <td>5.0</td>\n",
              "    </tr>\n",
              "    <tr>\n",
              "      <th>786</th>\n",
              "      <td>I eat here every time I go to Las Vegas.  Excellent food and service, always. Enough said.</td>\n",
              "      <td>5.0</td>\n",
              "    </tr>\n",
              "    <tr>\n",
              "      <th>799</th>\n",
              "      <td>Love it here! Very delicious and great customer service! Love the prime rib and lobster.</td>\n",
              "      <td>5.0</td>\n",
              "    </tr>\n",
              "    <tr>\n",
              "      <th>803</th>\n",
              "      <td>Friendly people, great service, and the lemon pepper wings were amazing. I will be back!</td>\n",
              "      <td>5.0</td>\n",
              "    </tr>\n",
              "    <tr>\n",
              "      <th>809</th>\n",
              "      <td>Give it a try, this place definitely deserves your patronage. Food is good, not too spicy, and its very laid back,</td>\n",
              "      <td>4.0</td>\n",
              "    </tr>\n",
              "    <tr>\n",
              "      <th>811</th>\n",
              "      <td>Good taco shop with flavorful food; everyone enjoyed their lunch.</td>\n",
              "      <td>3.0</td>\n",
              "    </tr>\n",
              "    <tr>\n",
              "      <th>812</th>\n",
              "      <td>Best ayce I have ever been too fresh sushi and great service this place is a must try !!</td>\n",
              "      <td>5.0</td>\n",
              "    </tr>\n",
              "    <tr>\n",
              "      <th>821</th>\n",
              "      <td>Good music. Good food. Good staff. Yellowtail appetizer is amazing and prices are fair.</td>\n",
              "      <td>5.0</td>\n",
              "    </tr>\n",
              "    <tr>\n",
              "      <th>823</th>\n",
              "      <td>Absolutely terrible service.  The waitress ignored us while checking her nails.  Drinks are watered down and overpriced.  It's a 2 drink minimum and the entire place was empty.</td>\n",
              "      <td>1.0</td>\n",
              "    </tr>\n",
              "    <tr>\n",
              "      <th>838</th>\n",
              "      <td>It's awesome here!!The guys are soooo hot and nice!!The host London is amazing at the mic and getting the crowd excited!!highly recommend this place!!</td>\n",
              "      <td>5.0</td>\n",
              "    </tr>\n",
              "    <tr>\n",
              "      <th>841</th>\n",
              "      <td>It's 108 so we stopped for a beer..  The allure of the place is the live music.  We came before that.  Wasn't impressed..</td>\n",
              "      <td>1.0</td>\n",
              "    </tr>\n",
              "    <tr>\n",
              "      <th>843</th>\n",
              "      <td>What a beautiful park!  Make sure to get off the strip and head out here.  Great for everyone, you can drive around and check out the amazing scenery or get out and hike.</td>\n",
              "      <td>5.0</td>\n",
              "    </tr>\n",
              "    <tr>\n",
              "      <th>855</th>\n",
              "      <td>Two words .....bad ass. I thought I hated sushi until  sake rok! Been here twice in last 3 days and I just made reservations for tomorrow</td>\n",
              "      <td>5.0</td>\n",
              "    </tr>\n",
              "    <tr>\n",
              "      <th>857</th>\n",
              "      <td>Good food and excellent burrata and tomato salad!!  Good service.  Highly recommend.</td>\n",
              "      <td>4.0</td>\n",
              "    </tr>\n",
              "    <tr>\n",
              "      <th>861</th>\n",
              "      <td>Had a company party there. Service was outstanding, my glass was never empty. Great atmosphere!!! And the food is good!</td>\n",
              "      <td>5.0</td>\n",
              "    </tr>\n",
              "    <tr>\n",
              "      <th>864</th>\n",
              "      <td>Awesome pho! Great service nice people! I had the pho and it was delicious! And they have Chinese also!</td>\n",
              "      <td>5.0</td>\n",
              "    </tr>\n",
              "    <tr>\n",
              "      <th>868</th>\n",
              "      <td>The drive through service SUCKS!!!! Always in line FOREVER. Why I keep going back, no idea. Literally in line at a drive through for at least 10 minutes every single time. Horrible.</td>\n",
              "      <td>1.0</td>\n",
              "    </tr>\n",
              "    <tr>\n",
              "      <th>878</th>\n",
              "      <td>Came from California for a short vacation, and came across Sushi 21. Very pleasant service, and our group of seven people thought that the food was very tasty and fresh. Recommending this place.</td>\n",
              "      <td>5.0</td>\n",
              "    </tr>\n",
              "    <tr>\n",
              "      <th>883</th>\n",
              "      <td>TI  offers two for one special with limited food to eat and bad service a very disappointment buffet not worth the money.</td>\n",
              "      <td>1.0</td>\n",
              "    </tr>\n",
              "    <tr>\n",
              "      <th>886</th>\n",
              "      <td>Food was so good that my wife and I return two more times while on vacation in Las Vegas.</td>\n",
              "      <td>5.0</td>\n",
              "    </tr>\n",
              "    <tr>\n",
              "      <th>893</th>\n",
              "      <td>Amazing service!!!! The food was to die for. I highly recommend me this restaurant. Anytime your in Vegas this spot is a must.</td>\n",
              "      <td>5.0</td>\n",
              "    </tr>\n",
              "    <tr>\n",
              "      <th>901</th>\n",
              "      <td>Very unique ambiance and interesting back story. It was really crowded and loud when I was there so it wasn't very conducive for studying. Other than that, it was nice.</td>\n",
              "      <td>4.0</td>\n",
              "    </tr>\n",
              "    <tr>\n",
              "      <th>918</th>\n",
              "      <td>I love the restaurant. The Greek Salad is the best. Staff is cordial. Decore is nice. Service is timely. Thumbs up!</td>\n",
              "      <td>5.0</td>\n",
              "    </tr>\n",
              "    <tr>\n",
              "      <th>920</th>\n",
              "      <td>Stopped by the Checkers on Las Vegas Boulevard for the one day only sale of their All-American Cheeseburger for $.69 regular priced $1.19. Might have been the worst hamburger I ever had.</td>\n",
              "      <td>2.0</td>\n",
              "    </tr>\n",
              "    <tr>\n",
              "      <th>933</th>\n",
              "      <td>Drinks are 10 USD each which seems pricey for the run-down area. Still, its a fairly nice lounge on weekends.</td>\n",
              "      <td>3.0</td>\n",
              "    </tr>\n",
              "    <tr>\n",
              "      <th>961</th>\n",
              "      <td>BEST THAI PLACE I HAVE TRIED SO FAR.... amazing service from are server apple just great food most difficultly I will come back</td>\n",
              "      <td>5.0</td>\n",
              "    </tr>\n",
              "    <tr>\n",
              "      <th>966</th>\n",
              "      <td>Like most Starbucks I've been to, this one includes the same fast friendly service and perfect order accuracy.</td>\n",
              "      <td>5.0</td>\n",
              "    </tr>\n",
              "    <tr>\n",
              "      <th>968</th>\n",
              "      <td>Yummy food and great service! Thankful for the AC in this July heat. Don't forget to check in and get your free muffin!</td>\n",
              "      <td>5.0</td>\n",
              "    </tr>\n",
              "    <tr>\n",
              "      <th>976</th>\n",
              "      <td>Came here for dinner!!! Amazing food and service!!! Clean and friendly!  The tuna poke is amazing and so is the chicken teriyaki!!!  Check this place out!!! I will definitely be back!</td>\n",
              "      <td>5.0</td>\n",
              "    </tr>\n",
              "    <tr>\n",
              "      <th>980</th>\n",
              "      <td>Great appetizers, and good pescetarian options, nice value. Plus the deserts are super bomb. Service left something to be desired.</td>\n",
              "      <td>4.0</td>\n",
              "    </tr>\n",
              "    <tr>\n",
              "      <th>981</th>\n",
              "      <td>You gotta love a place where you wear plastic gloves and bib to eat. It's so much fun and the food is too, as well as delicious. Good beer and service. I'd recommend it happily.</td>\n",
              "      <td>5.0</td>\n",
              "    </tr>\n",
              "    <tr>\n",
              "      <th>988</th>\n",
              "      <td>Always fresh. Always friendly. Awesome service. Drive thru is always fast. Inside is fast as well. Love the Holliday donuts. Will always come back.</td>\n",
              "      <td>5.0</td>\n",
              "    </tr>\n",
              "    <tr>\n",
              "      <th>997</th>\n",
              "      <td>Really great food. Went on a Sunday and was not crowded. Food &amp; service were both very good.</td>\n",
              "      <td>5.0</td>\n",
              "    </tr>\n",
              "    <tr>\n",
              "      <th>998</th>\n",
              "      <td>Excellent food, atmosphere and attention to detail.  Thank you Carmen (server) for the great suggestions!\\nBeautiful decor and upscale music and feel.</td>\n",
              "      <td>5.0</td>\n",
              "    </tr>\n",
              "    <tr>\n",
              "      <th>1002</th>\n",
              "      <td>We had a chef named Chad that was amazing! Food was phenomenal and Chad made the whole meal. We will definitely be back!</td>\n",
              "      <td>5.0</td>\n",
              "    </tr>\n",
              "    <tr>\n",
              "      <th>1004</th>\n",
              "      <td>The food was delicious and the service superb!  We loved it so much we went 2 nights in a row.  Our server, Leslie, was fantastic. Ask for her!</td>\n",
              "      <td>5.0</td>\n",
              "    </tr>\n",
              "    <tr>\n",
              "      <th>1007</th>\n",
              "      <td>The server was sweet, the food was fresh and yummy, and the decor was nice. A pleasant experience.</td>\n",
              "      <td>5.0</td>\n",
              "    </tr>\n",
              "    <tr>\n",
              "      <th>1010</th>\n",
              "      <td>I have no words... this place is just amazing,the atmosphere,the food,everything is like wow,I will definitely become a regular here</td>\n",
              "      <td>5.0</td>\n",
              "    </tr>\n",
              "  </tbody>\n",
              "</table>\n",
              "</div>"
            ],
            "text/plain": [
              "                                                                                                                                                                                                    text  stars\n",
              "702                                    loved my burrito, but these girls next to me hated their tacos, at pink taco? lol i guess you have to know what to order and not expect authentic Mexican food :]    4.0\n",
              "703                                                             Delicious food and wonderful staff.  Had the salmon burger and shrimp sliders (yum).  Great fries.  Dina and VIda were terrific servers.    5.0\n",
              "707                                                                       This is one of the best New York style pizza I ever had and the guys are very nice. I definitely will come back to this place.    5.0\n",
              "714                                                      My first stop when I hit the city. It's like eating at grandmas kitchen table.great customer service always.never disappointed!live this place.    5.0\n",
              "721               Dimsum - very good\\nIndian - excellent\\nService and ambiance - very good\\nGreat dining experience.\\nA must with every Vegas visit.\\nThe Asst Manager- F&B, Mr. Tony Dochev is awesome.    5.0\n",
              "725                                     Sunday brunch. Good service, moderate prices, and great food. Tried the steak and egg tacos, monkey bread (a must if you have a sweet tooth) with a bloody mary.    5.0\n",
              "731                                                            Great restaurant that not many people know about. Worth the drive. Cool owner with great prices. Can't beat it. As good as roscoes in LA.    5.0\n",
              "739                                                                             Not sure why all the bad reviews. I've been ordering pizza from this location for a decade and have never had a problem.    5.0\n",
              "744                        Ok.....service is crazy slow even @ 2:30 they had two waiters for the entire place....One of the rolls we got tasted like it was canned tuna. House salad was good though....    2.0\n",
              "766                                                                                                                                                                                       great pit stop    5.0\n",
              "767                                                                                                                                  Great service from Ron by the bar! Thanks for the house margarita!!    5.0\n",
              "769                                 Stopped in on a Saturday night for drinks. I had the French Onion soup & it was delicious! Drinks were good, service was excellent & great prices. Would go back. :)    5.0\n",
              "771                                          Had and excellent dining experience! Delicious steak frites and thanks to the amazing waitstaff led at our table by Jerry a wonderful anniversary dinner !!    5.0\n",
              "786                                                                                                           I eat here every time I go to Las Vegas.  Excellent food and service, always. Enough said.    5.0\n",
              "799                                                                                                             Love it here! Very delicious and great customer service! Love the prime rib and lobster.    5.0\n",
              "803                                                                                                             Friendly people, great service, and the lemon pepper wings were amazing. I will be back!    5.0\n",
              "809                                                                                   Give it a try, this place definitely deserves your patronage. Food is good, not too spicy, and its very laid back,    4.0\n",
              "811                                                                                                                                    Good taco shop with flavorful food; everyone enjoyed their lunch.    3.0\n",
              "812                                                                                                             Best ayce I have ever been too fresh sushi and great service this place is a must try !!    5.0\n",
              "821                                                                                                              Good music. Good food. Good staff. Yellowtail appetizer is amazing and prices are fair.    5.0\n",
              "823                     Absolutely terrible service.  The waitress ignored us while checking her nails.  Drinks are watered down and overpriced.  It's a 2 drink minimum and the entire place was empty.    1.0\n",
              "838                                               It's awesome here!!The guys are soooo hot and nice!!The host London is amazing at the mic and getting the crowd excited!!highly recommend this place!!    5.0\n",
              "841                                                                            It's 108 so we stopped for a beer..  The allure of the place is the live music.  We came before that.  Wasn't impressed..    1.0\n",
              "843                           What a beautiful park!  Make sure to get off the strip and head out here.  Great for everyone, you can drive around and check out the amazing scenery or get out and hike.    5.0\n",
              "855                                                            Two words .....bad ass. I thought I hated sushi until  sake rok! Been here twice in last 3 days and I just made reservations for tomorrow    5.0\n",
              "857                                                                                                                 Good food and excellent burrata and tomato salad!!  Good service.  Highly recommend.    4.0\n",
              "861                                                                              Had a company party there. Service was outstanding, my glass was never empty. Great atmosphere!!! And the food is good!    5.0\n",
              "864                                                                                              Awesome pho! Great service nice people! I had the pho and it was delicious! And they have Chinese also!    5.0\n",
              "868                The drive through service SUCKS!!!! Always in line FOREVER. Why I keep going back, no idea. Literally in line at a drive through for at least 10 minutes every single time. Horrible.    1.0\n",
              "878   Came from California for a short vacation, and came across Sushi 21. Very pleasant service, and our group of seven people thought that the food was very tasty and fresh. Recommending this place.    5.0\n",
              "883                                                                            TI  offers two for one special with limited food to eat and bad service a very disappointment buffet not worth the money.    1.0\n",
              "886                                                                                                            Food was so good that my wife and I return two more times while on vacation in Las Vegas.    5.0\n",
              "893                                                                       Amazing service!!!! The food was to die for. I highly recommend me this restaurant. Anytime your in Vegas this spot is a must.    5.0\n",
              "901                             Very unique ambiance and interesting back story. It was really crowded and loud when I was there so it wasn't very conducive for studying. Other than that, it was nice.    4.0\n",
              "918                                                                                  I love the restaurant. The Greek Salad is the best. Staff is cordial. Decore is nice. Service is timely. Thumbs up!    5.0\n",
              "920           Stopped by the Checkers on Las Vegas Boulevard for the one day only sale of their All-American Cheeseburger for $.69 regular priced $1.19. Might have been the worst hamburger I ever had.    2.0\n",
              "933                                                                                        Drinks are 10 USD each which seems pricey for the run-down area. Still, its a fairly nice lounge on weekends.    3.0\n",
              "961                                                                      BEST THAI PLACE I HAVE TRIED SO FAR.... amazing service from are server apple just great food most difficultly I will come back    5.0\n",
              "966                                                                                       Like most Starbucks I've been to, this one includes the same fast friendly service and perfect order accuracy.    5.0\n",
              "968                                                                              Yummy food and great service! Thankful for the AC in this July heat. Don't forget to check in and get your free muffin!    5.0\n",
              "976              Came here for dinner!!! Amazing food and service!!! Clean and friendly!  The tuna poke is amazing and so is the chicken teriyaki!!!  Check this place out!!! I will definitely be back!    5.0\n",
              "980                                                                   Great appetizers, and good pescetarian options, nice value. Plus the deserts are super bomb. Service left something to be desired.    4.0\n",
              "981                    You gotta love a place where you wear plastic gloves and bib to eat. It's so much fun and the food is too, as well as delicious. Good beer and service. I'd recommend it happily.    5.0\n",
              "988                                                  Always fresh. Always friendly. Awesome service. Drive thru is always fast. Inside is fast as well. Love the Holliday donuts. Will always come back.    5.0\n",
              "997                                                                                                         Really great food. Went on a Sunday and was not crowded. Food & service were both very good.    5.0\n",
              "998                                               Excellent food, atmosphere and attention to detail.  Thank you Carmen (server) for the great suggestions!\\nBeautiful decor and upscale music and feel.    5.0\n",
              "1002                                                                            We had a chef named Chad that was amazing! Food was phenomenal and Chad made the whole meal. We will definitely be back!    5.0\n",
              "1004                                                     The food was delicious and the service superb!  We loved it so much we went 2 nights in a row.  Our server, Leslie, was fantastic. Ask for her!    5.0\n",
              "1007                                                                                                  The server was sweet, the food was fresh and yummy, and the decor was nice. A pleasant experience.    5.0\n",
              "1010                                                                I have no words... this place is just amazing,the atmosphere,the food,everything is like wow,I will definitely become a regular here    5.0"
            ]
          },
          "metadata": {
            "tags": []
          },
          "execution_count": 17
        }
      ]
    },
    {
      "cell_type": "code",
      "metadata": {
        "id": "VgMJpduwRs0w",
        "colab": {
          "base_uri": "https://localhost:8080/",
          "height": 1000
        },
        "outputId": "165a83d8-8256-461c-f823-481d6a07bb65"
      },
      "source": [
        "# Review how each document contributes to each topic\n",
        "\n",
        "topic_names = [\"Topic\" + str(i) for i in range(best_lda_model.n_components)]\n",
        "doc_names = [\"Doc\" + str(i) for i in range(len(reviews_df_trunc))]\n",
        "\n",
        "df_document_topic = pd.DataFrame(np.round(topic_values, 2), columns=topic_names, index=doc_names)\n",
        "dominant_topic = np.argmax(df_document_topic.values, axis=1)\n",
        "df_document_topic['dominant_topic'] = dominant_topic\n",
        "\n",
        "# These two should match\n",
        "display(df_document_topic.head())\n",
        "display(reviews_df_trunc.head())"
      ],
      "execution_count": null,
      "outputs": [
        {
          "output_type": "display_data",
          "data": {
            "text/html": [
              "<div>\n",
              "<style scoped>\n",
              "    .dataframe tbody tr th:only-of-type {\n",
              "        vertical-align: middle;\n",
              "    }\n",
              "\n",
              "    .dataframe tbody tr th {\n",
              "        vertical-align: top;\n",
              "    }\n",
              "\n",
              "    .dataframe thead th {\n",
              "        text-align: right;\n",
              "    }\n",
              "</style>\n",
              "<table border=\"1\" class=\"dataframe\">\n",
              "  <thead>\n",
              "    <tr style=\"text-align: right;\">\n",
              "      <th></th>\n",
              "      <th>Topic0</th>\n",
              "      <th>Topic1</th>\n",
              "      <th>Topic2</th>\n",
              "      <th>dominant_topic</th>\n",
              "    </tr>\n",
              "  </thead>\n",
              "  <tbody>\n",
              "    <tr>\n",
              "      <th>Doc0</th>\n",
              "      <td>0.01</td>\n",
              "      <td>0.01</td>\n",
              "      <td>0.97</td>\n",
              "      <td>2</td>\n",
              "    </tr>\n",
              "    <tr>\n",
              "      <th>Doc1</th>\n",
              "      <td>0.09</td>\n",
              "      <td>0.87</td>\n",
              "      <td>0.04</td>\n",
              "      <td>1</td>\n",
              "    </tr>\n",
              "    <tr>\n",
              "      <th>Doc2</th>\n",
              "      <td>0.06</td>\n",
              "      <td>0.92</td>\n",
              "      <td>0.02</td>\n",
              "      <td>1</td>\n",
              "    </tr>\n",
              "    <tr>\n",
              "      <th>Doc3</th>\n",
              "      <td>0.00</td>\n",
              "      <td>0.35</td>\n",
              "      <td>0.65</td>\n",
              "      <td>2</td>\n",
              "    </tr>\n",
              "    <tr>\n",
              "      <th>Doc4</th>\n",
              "      <td>0.01</td>\n",
              "      <td>0.94</td>\n",
              "      <td>0.06</td>\n",
              "      <td>1</td>\n",
              "    </tr>\n",
              "  </tbody>\n",
              "</table>\n",
              "</div>"
            ],
            "text/plain": [
              "      Topic0  Topic1  Topic2  dominant_topic\n",
              "Doc0    0.01    0.01    0.97               2\n",
              "Doc1    0.09    0.87    0.04               1\n",
              "Doc2    0.06    0.92    0.02               1\n",
              "Doc3    0.00    0.35    0.65               2\n",
              "Doc4    0.01    0.94    0.06               1"
            ]
          },
          "metadata": {
            "tags": []
          }
        },
        {
          "output_type": "display_data",
          "data": {
            "text/html": [
              "<div>\n",
              "<style scoped>\n",
              "    .dataframe tbody tr th:only-of-type {\n",
              "        vertical-align: middle;\n",
              "    }\n",
              "\n",
              "    .dataframe tbody tr th {\n",
              "        vertical-align: top;\n",
              "    }\n",
              "\n",
              "    .dataframe thead th {\n",
              "        text-align: right;\n",
              "    }\n",
              "</style>\n",
              "<table border=\"1\" class=\"dataframe\">\n",
              "  <thead>\n",
              "    <tr style=\"text-align: right;\">\n",
              "      <th></th>\n",
              "      <th>review_id</th>\n",
              "      <th>business_id</th>\n",
              "      <th>stars</th>\n",
              "      <th>useful</th>\n",
              "      <th>funny</th>\n",
              "      <th>cool</th>\n",
              "      <th>text</th>\n",
              "      <th>text_processed</th>\n",
              "      <th>topic</th>\n",
              "    </tr>\n",
              "  </thead>\n",
              "  <tbody>\n",
              "    <tr>\n",
              "      <th>0</th>\n",
              "      <td>i6g_oA9Yf9Y31qt0wibXpw</td>\n",
              "      <td>5JxlZaqCnk1MnbgRirs40Q</td>\n",
              "      <td>1.0</td>\n",
              "      <td>0.0</td>\n",
              "      <td>0.0</td>\n",
              "      <td>0.0</td>\n",
              "      <td>Dismal, lukewarm, defrosted-tasting \"TexMex\" glop;\\n\\nMumbly, unengaged waiter;\\n\\nClueless manager, who seeing us with barely nibbled entrees\\non plates shoved forward for pickup, thanked us\\nperfunctorily for our patronage;\\n\\nWe're from the Texas Hill Country;\\ndown there, we jail critters \\nwho serve up grub this bad,\\nfor their own protection.\\n\\nNever, never, NEVER again\\n(Back to Yard House for real food)</td>\n",
              "      <td>dismal lukewarm defrosted-tasting \"texmex\" glop;\\n\\nmumbly unengaged waiter;\\n\\nclueless manager who seeing us with barely nibbled entrees\\non plates shoved forward for pickup thanked us\\nperfunctorily for our patronage;\\n\\nwe're from the texas hill country;\\ndown there we jail critters \\nwho serve up grub this bad\\nfor their own protection\\n\\nnever never never again\\n(back to yard house for real food)</td>\n",
              "      <td>2</td>\n",
              "    </tr>\n",
              "    <tr>\n",
              "      <th>1</th>\n",
              "      <td>bVTjZgRNq8ToxzvtiVrqMA</td>\n",
              "      <td>d4qwVw4PcN-_2mK2o1Ro1g</td>\n",
              "      <td>1.0</td>\n",
              "      <td>0.0</td>\n",
              "      <td>0.0</td>\n",
              "      <td>0.0</td>\n",
              "      <td>10pm on a super bowl Sunday and they're already closed?? Weak, no wonder the hard Rock is dying off...</td>\n",
              "      <td>10pm on a super bowl sunday and they're already closed weak no wonder the hard rock is dying off</td>\n",
              "      <td>1</td>\n",
              "    </tr>\n",
              "    <tr>\n",
              "      <th>2</th>\n",
              "      <td>TeX0eOIeZb_wpo86rCedXQ</td>\n",
              "      <td>d4qwVw4PcN-_2mK2o1Ro1g</td>\n",
              "      <td>5.0</td>\n",
              "      <td>0.0</td>\n",
              "      <td>0.0</td>\n",
              "      <td>0.0</td>\n",
              "      <td>Holy heck this place is amazing. I love their chicken tacos they're by far my favorite. Great customer service and all round awesome experience.</td>\n",
              "      <td>holy heck this place is amazing i love their chicken tacos they're by far my favorite great customer service and all round awesome experience</td>\n",
              "      <td>1</td>\n",
              "    </tr>\n",
              "    <tr>\n",
              "      <th>3</th>\n",
              "      <td>XvLG7ReC8JZmBltOLJzfcA</td>\n",
              "      <td>XZbuPXdyA0ZtTu3AzqtQhg</td>\n",
              "      <td>4.0</td>\n",
              "      <td>0.0</td>\n",
              "      <td>1.0</td>\n",
              "      <td>0.0</td>\n",
              "      <td>As the previous person posted, what more can really be said about this restaurant. I just came back from Vegas this morning and a truly truly horrible experience.  I only went out there for a concert and the concert and this restaurant were the best parts of my trip.  I went in here accidentally, meaning, i had no clue it was Bobby Flay's restaurant. I was hungry and Caesars Palace was a across from where I was staying and all the restaurants in my hotel were packed and had lines, I walked right in with no waiting. (I will assume now that since its Bobby's place this place can get crowded so I feel the need to note this was a Sunday about 11:45am) Once inside Caesars Palace, I went to the first restaurant I saw, which was this one.  I realized mid-meal it was his restaurant when the waiter at the table next to me was explaining to the recently seated couple that \"Mr Flay likes a little spice so beware all of our dishes have a little kick\" (they were an older couple). I know i'm slow after he said that, that's when i realized why they had his cookbooks in the front. :)  (but like i said had a horrible trip so i wasn't even looking for things like this) anyway onto the food.\\n\\nFOOD: fantastic.  I went on sunday and i got the eggs and aged striploin tortilla (fancy name for steak and eggs) and  it was yummy.  It came with all this spices of sorts (well they werent spices). I am not really sure how to describe it, more like the consistency of salsa's but they werent salsa's, at any rate it was really good mix with the eggs.  I had a side of home fries which were a little burnt but oh well.  The steak was very good, very flavored, moist and tender. Overall very good. Had a cappuccino too, also very good. I wish i had tried the crabcake's but i knew i wasnt going to eat all that. waiters were awesome, just the right amount of attentiveness. (I personally hate when waiters/waitresses, come back every 5 minutes, is everything ok is everything ok...sheesh can i enjoy my meal?) \\n\\nAnyway like i said, i had a horrible experience in vegas and this and the concert i went to see were the best parts about my trip, very glad i blessed up on this place.\\n\\nP.S.  Take notice, i have never eaten in a celebrity chef's restaurant and noticed that there were no salt and pepper shakers on any table.  ha just a fun tidbit, i thought that was funny and very interesting, almost as if the chef is subtly saying \"you will not mess up my dish with your spices\"</td>\n",
              "      <td>as the previous person posted what more can really be said about this restaurant i just came back from vegas this morning and a truly truly horrible experience  i only went out there for a concert and the concert and this restaurant were the best parts of my trip  i went in here accidentally meaning i had no clue it was bobby flay's restaurant i was hungry and caesars palace was a across from where i was staying and all the restaurants in my hotel were packed and had lines i walked right in with no waiting (i will assume now that since its bobby's place this place can get crowded so i feel the need to note this was a sunday about 11:45am) once inside caesars palace i went to the first restaurant i saw which was this one  i realized mid-meal it was his restaurant when the waiter at the table next to me was explaining to the recently seated couple that \"mr flay likes a little spice so beware all of our dishes have a little kick\" (they were an older couple) i know i'm slow after he said that that's when i realized why they had his cookbooks in the front :)  (but like i said had a horrible trip so i wasn't even looking for things like this) anyway onto the food\\n\\nfood: fantastic  i went on sunday and i got the eggs and aged striploin tortilla (fancy name for steak and eggs) and  it was yummy  it came with all this spices of sorts (well they werent spices) i am not really sure how to describe it more like the consistency of salsa's but they werent salsa's at any rate it was really good mix with the eggs  i had a side of home fries which were a little burnt but oh well  the steak was very good very flavored moist and tender overall very good had a cappuccino too also very good i wish i had tried the crabcake's but i knew i wasnt going to eat all that waiters were awesome just the right amount of attentiveness (i personally hate when waiters/waitresses come back every 5 minutes is everything ok is everything oksheesh can i enjoy my meal) \\n\\nanyway like i said i had a horrible experience in vegas and this and the concert i went to see were the best parts about my trip very glad i blessed up on this place\\n\\nps  take notice i have never eaten in a celebrity chef's restaurant and noticed that there were no salt and pepper shakers on any table  ha just a fun tidbit i thought that was funny and very interesting almost as if the chef is subtly saying \"you will not mess up my dish with your spices\"</td>\n",
              "      <td>2</td>\n",
              "    </tr>\n",
              "    <tr>\n",
              "      <th>4</th>\n",
              "      <td>WGbtqQMeJwTVg6DFb156EQ</td>\n",
              "      <td>PL3cimEUfNHlenOGSOAdJg</td>\n",
              "      <td>4.0</td>\n",
              "      <td>3.0</td>\n",
              "      <td>0.0</td>\n",
              "      <td>1.0</td>\n",
              "      <td>This was our choice, by default, for New Year's Eve dinner this year. See, we chose not to make reservations, but instead just wing it and see where we could get in. They had some early dining availability, so we jumped on it. Their special New Year's \"Paint the Town Gold\" menu did not disappoint.\\n\\nLocated in the beautiful Mandalay Bay restaurant row, Kumi is a gorgeous display of style and food artistry. Every course was surprisingly delicious, and plated interestingly.\\n\\nService was very good, seriously on point. Right up until the dessert course...after 30 minutes of waiting for it, we finally requested the check as we had an event to get to. One of our attendants felt bad and offered to quickly grab it for us but we were in danger of being late so we opted not to take him up on it. \\n\\nIt's a beautiful, albeit very pricey experience for dinner. We would return for special occasions only.</td>\n",
              "      <td>this was our choice by default for new year's eve dinner this year see we chose not to make reservations but instead just wing it and see where we could get in they had some early dining availability so we jumped on it their special new year's \"paint the town gold\" menu did not disappoint\\n\\nlocated in the beautiful mandalay bay restaurant row kumi is a gorgeous display of style and food artistry every course was surprisingly delicious and plated interestingly\\n\\nservice was very good seriously on point right up until the dessert courseafter 30 minutes of waiting for it we finally requested the check as we had an event to get to one of our attendants felt bad and offered to quickly grab it for us but we were in danger of being late so we opted not to take him up on it \\n\\nit's a beautiful albeit very pricey experience for dinner we would return for special occasions only</td>\n",
              "      <td>1</td>\n",
              "    </tr>\n",
              "  </tbody>\n",
              "</table>\n",
              "</div>"
            ],
            "text/plain": [
              "                review_id  ... topic\n",
              "0  i6g_oA9Yf9Y31qt0wibXpw  ...     2\n",
              "1  bVTjZgRNq8ToxzvtiVrqMA  ...     1\n",
              "2  TeX0eOIeZb_wpo86rCedXQ  ...     1\n",
              "3  XvLG7ReC8JZmBltOLJzfcA  ...     2\n",
              "4  WGbtqQMeJwTVg6DFb156EQ  ...     1\n",
              "\n",
              "[5 rows x 9 columns]"
            ]
          },
          "metadata": {
            "tags": []
          }
        }
      ]
    },
    {
      "cell_type": "code",
      "metadata": {
        "id": "oiqFN4fhOQI9",
        "colab": {
          "base_uri": "https://localhost:8080/",
          "height": 918
        },
        "outputId": "b2810fcb-d02d-4565-b9e2-90af86174fa0"
      },
      "source": [
        "pd.set_option('display.max_colwidth', 100)\n",
        "\n",
        "def retrieve_business_reviews(reviews_df, business_id):\n",
        "    reviews = reviews_df.loc[reviews_df['business_id'] == business_id]\n",
        "    return reviews[['business_id', 'stars', 'text', 'topic']]\n",
        "\n",
        "print(\"Distribution of predicted topics\")\n",
        "display(reviews_df_trunc.groupby('topic').count())\n",
        "\n",
        "print(\"\\nRetrieving reviews for a specific business\")\n",
        "display(retrieve_business_reviews(reviews_df_trunc, '5JxlZaqCnk1MnbgRirs40Q'))\n",
        "\n",
        "print(\"\\n Distribution of reviews\")\n",
        "display(reviews_df_trunc.groupby('business_id').count().sort_values(by='text', ascending=False).head(10))"
      ],
      "execution_count": null,
      "outputs": [
        {
          "output_type": "stream",
          "text": [
            "Distribution of predicted topics\n"
          ],
          "name": "stdout"
        },
        {
          "output_type": "display_data",
          "data": {
            "text/html": [
              "<div>\n",
              "<style scoped>\n",
              "    .dataframe tbody tr th:only-of-type {\n",
              "        vertical-align: middle;\n",
              "    }\n",
              "\n",
              "    .dataframe tbody tr th {\n",
              "        vertical-align: top;\n",
              "    }\n",
              "\n",
              "    .dataframe thead th {\n",
              "        text-align: right;\n",
              "    }\n",
              "</style>\n",
              "<table border=\"1\" class=\"dataframe\">\n",
              "  <thead>\n",
              "    <tr style=\"text-align: right;\">\n",
              "      <th></th>\n",
              "      <th>review_id</th>\n",
              "      <th>business_id</th>\n",
              "      <th>stars</th>\n",
              "      <th>useful</th>\n",
              "      <th>funny</th>\n",
              "      <th>cool</th>\n",
              "      <th>text</th>\n",
              "      <th>text_processed</th>\n",
              "    </tr>\n",
              "    <tr>\n",
              "      <th>topic</th>\n",
              "      <th></th>\n",
              "      <th></th>\n",
              "      <th></th>\n",
              "      <th></th>\n",
              "      <th></th>\n",
              "      <th></th>\n",
              "      <th></th>\n",
              "      <th></th>\n",
              "    </tr>\n",
              "  </thead>\n",
              "  <tbody>\n",
              "    <tr>\n",
              "      <th>0</th>\n",
              "      <td>1318</td>\n",
              "      <td>1318</td>\n",
              "      <td>1318</td>\n",
              "      <td>1318</td>\n",
              "      <td>1318</td>\n",
              "      <td>1318</td>\n",
              "      <td>1318</td>\n",
              "      <td>1318</td>\n",
              "    </tr>\n",
              "    <tr>\n",
              "      <th>1</th>\n",
              "      <td>6223</td>\n",
              "      <td>6223</td>\n",
              "      <td>6223</td>\n",
              "      <td>6223</td>\n",
              "      <td>6223</td>\n",
              "      <td>6223</td>\n",
              "      <td>6223</td>\n",
              "      <td>6223</td>\n",
              "    </tr>\n",
              "    <tr>\n",
              "      <th>2</th>\n",
              "      <td>2459</td>\n",
              "      <td>2459</td>\n",
              "      <td>2459</td>\n",
              "      <td>2459</td>\n",
              "      <td>2459</td>\n",
              "      <td>2459</td>\n",
              "      <td>2459</td>\n",
              "      <td>2459</td>\n",
              "    </tr>\n",
              "  </tbody>\n",
              "</table>\n",
              "</div>"
            ],
            "text/plain": [
              "       review_id  business_id  stars  useful  funny  cool  text  text_processed\n",
              "topic                                                                          \n",
              "0           1318         1318   1318    1318   1318  1318  1318            1318\n",
              "1           6223         6223   6223    6223   6223  6223  6223            6223\n",
              "2           2459         2459   2459    2459   2459  2459  2459            2459"
            ]
          },
          "metadata": {
            "tags": []
          }
        },
        {
          "output_type": "stream",
          "text": [
            "\n",
            "Retrieving reviews for a specific business\n"
          ],
          "name": "stdout"
        },
        {
          "output_type": "display_data",
          "data": {
            "text/html": [
              "<div>\n",
              "<style scoped>\n",
              "    .dataframe tbody tr th:only-of-type {\n",
              "        vertical-align: middle;\n",
              "    }\n",
              "\n",
              "    .dataframe tbody tr th {\n",
              "        vertical-align: top;\n",
              "    }\n",
              "\n",
              "    .dataframe thead th {\n",
              "        text-align: right;\n",
              "    }\n",
              "</style>\n",
              "<table border=\"1\" class=\"dataframe\">\n",
              "  <thead>\n",
              "    <tr style=\"text-align: right;\">\n",
              "      <th></th>\n",
              "      <th>business_id</th>\n",
              "      <th>stars</th>\n",
              "      <th>text</th>\n",
              "      <th>topic</th>\n",
              "    </tr>\n",
              "  </thead>\n",
              "  <tbody>\n",
              "    <tr>\n",
              "      <th>0</th>\n",
              "      <td>5JxlZaqCnk1MnbgRirs40Q</td>\n",
              "      <td>1.0</td>\n",
              "      <td>Dismal, lukewarm, defrosted-tasting \"TexMex\" glop;\\n\\nMumbly, unengaged waiter;\\n\\nClueless mana...</td>\n",
              "      <td>2</td>\n",
              "    </tr>\n",
              "    <tr>\n",
              "      <th>2797</th>\n",
              "      <td>5JxlZaqCnk1MnbgRirs40Q</td>\n",
              "      <td>3.0</td>\n",
              "      <td>The three stars here don't represent a real review.  Oh, I had all intentions of writing a revie...</td>\n",
              "      <td>1</td>\n",
              "    </tr>\n",
              "    <tr>\n",
              "      <th>3593</th>\n",
              "      <td>5JxlZaqCnk1MnbgRirs40Q</td>\n",
              "      <td>4.0</td>\n",
              "      <td>I've been here several times, but I never reviewed it before.  We went here tonight and had a gr...</td>\n",
              "      <td>2</td>\n",
              "    </tr>\n",
              "    <tr>\n",
              "      <th>4933</th>\n",
              "      <td>5JxlZaqCnk1MnbgRirs40Q</td>\n",
              "      <td>2.0</td>\n",
              "      <td>I took my folks here last weekend for dinner on a Saturday night.  They were busy but didn't see...</td>\n",
              "      <td>1</td>\n",
              "    </tr>\n",
              "    <tr>\n",
              "      <th>6079</th>\n",
              "      <td>5JxlZaqCnk1MnbgRirs40Q</td>\n",
              "      <td>4.0</td>\n",
              "      <td>Above average in taste &amp; presentation, which is unusual for a casino location. Flavors and sauce...</td>\n",
              "      <td>2</td>\n",
              "    </tr>\n",
              "    <tr>\n",
              "      <th>7091</th>\n",
              "      <td>5JxlZaqCnk1MnbgRirs40Q</td>\n",
              "      <td>3.0</td>\n",
              "      <td>I came here on a Friday night just to hang out and kick off the weekend. We were seated at the b...</td>\n",
              "      <td>1</td>\n",
              "    </tr>\n",
              "    <tr>\n",
              "      <th>7971</th>\n",
              "      <td>5JxlZaqCnk1MnbgRirs40Q</td>\n",
              "      <td>3.0</td>\n",
              "      <td>we're from san diego so mexican places have tough competition for comparisons.  margaritas are g...</td>\n",
              "      <td>1</td>\n",
              "    </tr>\n",
              "    <tr>\n",
              "      <th>8351</th>\n",
              "      <td>5JxlZaqCnk1MnbgRirs40Q</td>\n",
              "      <td>3.0</td>\n",
              "      <td>Above average in taste &amp; presentation, which is unusual for a casino location. Flavors and sauce...</td>\n",
              "      <td>2</td>\n",
              "    </tr>\n",
              "    <tr>\n",
              "      <th>8998</th>\n",
              "      <td>5JxlZaqCnk1MnbgRirs40Q</td>\n",
              "      <td>4.0</td>\n",
              "      <td>Don't know why we like this particular Cabo over Palace or Santa Fe locations but we always seem...</td>\n",
              "      <td>1</td>\n",
              "    </tr>\n",
              "  </tbody>\n",
              "</table>\n",
              "</div>"
            ],
            "text/plain": [
              "                 business_id  ...  topic\n",
              "0     5JxlZaqCnk1MnbgRirs40Q  ...      2\n",
              "2797  5JxlZaqCnk1MnbgRirs40Q  ...      1\n",
              "3593  5JxlZaqCnk1MnbgRirs40Q  ...      2\n",
              "4933  5JxlZaqCnk1MnbgRirs40Q  ...      1\n",
              "6079  5JxlZaqCnk1MnbgRirs40Q  ...      2\n",
              "7091  5JxlZaqCnk1MnbgRirs40Q  ...      1\n",
              "7971  5JxlZaqCnk1MnbgRirs40Q  ...      1\n",
              "8351  5JxlZaqCnk1MnbgRirs40Q  ...      2\n",
              "8998  5JxlZaqCnk1MnbgRirs40Q  ...      1\n",
              "\n",
              "[9 rows x 4 columns]"
            ]
          },
          "metadata": {
            "tags": []
          }
        },
        {
          "output_type": "stream",
          "text": [
            "\n",
            " Distribution of reviews\n"
          ],
          "name": "stdout"
        },
        {
          "output_type": "display_data",
          "data": {
            "text/html": [
              "<div>\n",
              "<style scoped>\n",
              "    .dataframe tbody tr th:only-of-type {\n",
              "        vertical-align: middle;\n",
              "    }\n",
              "\n",
              "    .dataframe tbody tr th {\n",
              "        vertical-align: top;\n",
              "    }\n",
              "\n",
              "    .dataframe thead th {\n",
              "        text-align: right;\n",
              "    }\n",
              "</style>\n",
              "<table border=\"1\" class=\"dataframe\">\n",
              "  <thead>\n",
              "    <tr style=\"text-align: right;\">\n",
              "      <th></th>\n",
              "      <th>review_id</th>\n",
              "      <th>stars</th>\n",
              "      <th>useful</th>\n",
              "      <th>funny</th>\n",
              "      <th>cool</th>\n",
              "      <th>text</th>\n",
              "      <th>text_processed</th>\n",
              "      <th>topic</th>\n",
              "    </tr>\n",
              "    <tr>\n",
              "      <th>business_id</th>\n",
              "      <th></th>\n",
              "      <th></th>\n",
              "      <th></th>\n",
              "      <th></th>\n",
              "      <th></th>\n",
              "      <th></th>\n",
              "      <th></th>\n",
              "      <th></th>\n",
              "    </tr>\n",
              "  </thead>\n",
              "  <tbody>\n",
              "    <tr>\n",
              "      <th>rcaPajgKOJC2vo_l3xa42A</th>\n",
              "      <td>304</td>\n",
              "      <td>304</td>\n",
              "      <td>304</td>\n",
              "      <td>304</td>\n",
              "      <td>304</td>\n",
              "      <td>304</td>\n",
              "      <td>304</td>\n",
              "      <td>304</td>\n",
              "    </tr>\n",
              "    <tr>\n",
              "      <th>XZbuPXdyA0ZtTu3AzqtQhg</th>\n",
              "      <td>283</td>\n",
              "      <td>283</td>\n",
              "      <td>283</td>\n",
              "      <td>283</td>\n",
              "      <td>283</td>\n",
              "      <td>283</td>\n",
              "      <td>283</td>\n",
              "      <td>283</td>\n",
              "    </tr>\n",
              "    <tr>\n",
              "      <th>hihud--QRriCYZw1zZvW4g</th>\n",
              "      <td>187</td>\n",
              "      <td>187</td>\n",
              "      <td>187</td>\n",
              "      <td>187</td>\n",
              "      <td>187</td>\n",
              "      <td>187</td>\n",
              "      <td>187</td>\n",
              "      <td>187</td>\n",
              "    </tr>\n",
              "    <tr>\n",
              "      <th>IhNASEZ3XnBHmuuVnWdIwA</th>\n",
              "      <td>139</td>\n",
              "      <td>139</td>\n",
              "      <td>139</td>\n",
              "      <td>139</td>\n",
              "      <td>139</td>\n",
              "      <td>139</td>\n",
              "      <td>139</td>\n",
              "      <td>139</td>\n",
              "    </tr>\n",
              "    <tr>\n",
              "      <th>7sb2FYLS2sejZKxRYF9mtg</th>\n",
              "      <td>122</td>\n",
              "      <td>122</td>\n",
              "      <td>122</td>\n",
              "      <td>122</td>\n",
              "      <td>122</td>\n",
              "      <td>122</td>\n",
              "      <td>122</td>\n",
              "      <td>122</td>\n",
              "    </tr>\n",
              "    <tr>\n",
              "      <th>Ec9CBmL3285XkeHaNp-bSQ</th>\n",
              "      <td>117</td>\n",
              "      <td>117</td>\n",
              "      <td>117</td>\n",
              "      <td>117</td>\n",
              "      <td>117</td>\n",
              "      <td>117</td>\n",
              "      <td>117</td>\n",
              "      <td>117</td>\n",
              "    </tr>\n",
              "    <tr>\n",
              "      <th>eaNenRk_liZBERFFLCXqqQ</th>\n",
              "      <td>116</td>\n",
              "      <td>116</td>\n",
              "      <td>116</td>\n",
              "      <td>116</td>\n",
              "      <td>116</td>\n",
              "      <td>116</td>\n",
              "      <td>116</td>\n",
              "      <td>116</td>\n",
              "    </tr>\n",
              "    <tr>\n",
              "      <th>bsrj9_hFAql3dlSf244zpg</th>\n",
              "      <td>112</td>\n",
              "      <td>112</td>\n",
              "      <td>112</td>\n",
              "      <td>112</td>\n",
              "      <td>112</td>\n",
              "      <td>112</td>\n",
              "      <td>112</td>\n",
              "      <td>112</td>\n",
              "    </tr>\n",
              "    <tr>\n",
              "      <th>GI-CAiZ_Gg3h21PwrANB4Q</th>\n",
              "      <td>110</td>\n",
              "      <td>110</td>\n",
              "      <td>110</td>\n",
              "      <td>110</td>\n",
              "      <td>110</td>\n",
              "      <td>110</td>\n",
              "      <td>110</td>\n",
              "      <td>110</td>\n",
              "    </tr>\n",
              "    <tr>\n",
              "      <th>ItqPtxnayraXSlBS0EMOgg</th>\n",
              "      <td>102</td>\n",
              "      <td>102</td>\n",
              "      <td>102</td>\n",
              "      <td>102</td>\n",
              "      <td>102</td>\n",
              "      <td>102</td>\n",
              "      <td>102</td>\n",
              "      <td>102</td>\n",
              "    </tr>\n",
              "  </tbody>\n",
              "</table>\n",
              "</div>"
            ],
            "text/plain": [
              "                        review_id  stars  useful  ...  text  text_processed  topic\n",
              "business_id                                       ...                             \n",
              "rcaPajgKOJC2vo_l3xa42A        304    304     304  ...   304             304    304\n",
              "XZbuPXdyA0ZtTu3AzqtQhg        283    283     283  ...   283             283    283\n",
              "hihud--QRriCYZw1zZvW4g        187    187     187  ...   187             187    187\n",
              "IhNASEZ3XnBHmuuVnWdIwA        139    139     139  ...   139             139    139\n",
              "7sb2FYLS2sejZKxRYF9mtg        122    122     122  ...   122             122    122\n",
              "Ec9CBmL3285XkeHaNp-bSQ        117    117     117  ...   117             117    117\n",
              "eaNenRk_liZBERFFLCXqqQ        116    116     116  ...   116             116    116\n",
              "bsrj9_hFAql3dlSf244zpg        112    112     112  ...   112             112    112\n",
              "GI-CAiZ_Gg3h21PwrANB4Q        110    110     110  ...   110             110    110\n",
              "ItqPtxnayraXSlBS0EMOgg        102    102     102  ...   102             102    102\n",
              "\n",
              "[10 rows x 8 columns]"
            ]
          },
          "metadata": {
            "tags": []
          }
        }
      ]
    },
    {
      "cell_type": "code",
      "metadata": {
        "id": "f1B9oS7RJ7Ba"
      },
      "source": [
        "'''\n",
        "- Derive business profile based on reviews, topic and star\n",
        "- Explore what topic do people review on the most (Place and Staff)\n",
        "- Explore the avg stars for each topic: Do people review when its bad for that topic?\n",
        "'''\n",
        "\n",
        "'''\n",
        "Create a profile of a given business based on its reviews:\n",
        "  d4qwVw4PcN-_2mK2o1Ro1g (87)\n",
        "  rcaPajgKOJC2vo_l3xa42A (304) (Good performance)\n",
        "  XZbuPXdyA0ZtTu3AzqtQhg (283) (Good performance)\n",
        "  hihud--QRriCYZw1zZvW4g (187) (Particularly bad service)\n",
        "  IhNASEZ3XnBHmuuVnWdIwA (139)\n",
        "  7sb2FYLS2sejZKxRYF9mtg (122)\n",
        "  Ec9CBmL3285XkeHaNp-bSQ (117)\n",
        "  eaNenRk_liZBERFFLCXqqQ (116)\n",
        "  bsrj9_hFAql3dlSf244zpg (112)\n",
        "'''\n",
        "def profile_business(business_id):\n",
        "    reviews = reviews_df_trunc.loc[reviews_df_trunc['business_id'] == business_id]\n",
        "    reviews = reviews[['business_id', 'stars', 'topic']]\n",
        "\n",
        "    topic_0_reviews = reviews.loc[reviews['topic'] == 0]\n",
        "    topic_0_score = sum(list(topic_0_reviews['stars'])) / topic_0_reviews.shape[0] if topic_0_reviews.shape[0] > 0 else 0\n",
        "\n",
        "    topic_1_reviews = reviews.loc[reviews['topic'] == 1]\n",
        "    topic_1_score = sum(list(topic_1_reviews['stars'])) / topic_1_reviews.shape[0] if topic_1_reviews.shape[0] > 0 else 0\n",
        "\n",
        "    topic_2_reviews = reviews.loc[reviews['topic'] == 2]\n",
        "    topic_2_score = sum(list(topic_2_reviews['stars'])) / topic_2_reviews.shape[0] if topic_2_reviews.shape[0] > 0 else 0\n",
        "\n",
        "    print('='*63)\n",
        "    print(f'| Business Profile Scoring ({reviews.shape[0]:3} reviews in total)             |')\n",
        "    print('='*63)\n",
        "    print(f'| ID | {business_id}                                 |')\n",
        "    print('='*63)\n",
        "    print(f'| Food Quality (Topic 0):         {topic_0_score:.2f} (Based on {topic_0_reviews.shape[0]:3} reviews) |')\n",
        "    print(f'| Place & Staff (Topic 1):        {topic_1_score:.2f} (Based on {topic_1_reviews.shape[0]:3} reviews) |')\n",
        "    print(f'| Service & Efficiency (Topic 2): {topic_2_score:.2f} (Based on {topic_2_reviews.shape[0]:3} reviews) |')\n",
        "    print('='*63)"
      ],
      "execution_count": null,
      "outputs": []
    },
    {
      "cell_type": "code",
      "metadata": {
        "id": "hZsgthX9cISf",
        "colab": {
          "base_uri": "https://localhost:8080/"
        },
        "outputId": "3334761c-ebb1-4226-f11c-2539b7eeb34d"
      },
      "source": [
        "business_ids = [\n",
        "  'rcaPajgKOJC2vo_l3xa42A',\n",
        "  'XZbuPXdyA0ZtTu3AzqtQhg',\n",
        "  'hihud--QRriCYZw1zZvW4g',\n",
        "  'IhNASEZ3XnBHmuuVnWdIwA',\n",
        "  '7sb2FYLS2sejZKxRYF9mtg',\n",
        "  'Ec9CBmL3285XkeHaNp-bSQ',\n",
        "  'eaNenRk_liZBERFFLCXqqQ',\n",
        "  'bsrj9_hFAql3dlSf244zpg',\n",
        "  'GI-CAiZ_Gg3h21PwrANB4Q',\n",
        "  'ItqPtxnayraXSlBS0EMOgg',\n",
        "  'd4qwVw4PcN-_2mK2o1Ro1g',\n",
        "]\n",
        "\n",
        "for id in business_ids:\n",
        "    profile_business(id)"
      ],
      "execution_count": null,
      "outputs": [
        {
          "output_type": "stream",
          "text": [
            "===============================================================\n",
            "| Business Profile Scoring (304 reviews in total)             |\n",
            "===============================================================\n",
            "| ID | rcaPajgKOJC2vo_l3xa42A                                 |\n",
            "===============================================================\n",
            "| Food Quality (Topic 0):         5.00 (Based on   3 reviews) |\n",
            "| Place & Staff (Topic 1):        4.18 (Based on  73 reviews) |\n",
            "| Service & Efficiency (Topic 2): 4.07 (Based on 228 reviews) |\n",
            "===============================================================\n",
            "===============================================================\n",
            "| Business Profile Scoring (283 reviews in total)             |\n",
            "===============================================================\n",
            "| ID | XZbuPXdyA0ZtTu3AzqtQhg                                 |\n",
            "===============================================================\n",
            "| Food Quality (Topic 0):         4.00 (Based on   4 reviews) |\n",
            "| Place & Staff (Topic 1):        3.93 (Based on  67 reviews) |\n",
            "| Service & Efficiency (Topic 2): 4.01 (Based on 212 reviews) |\n",
            "===============================================================\n",
            "===============================================================\n",
            "| Business Profile Scoring (187 reviews in total)             |\n",
            "===============================================================\n",
            "| ID | hihud--QRriCYZw1zZvW4g                                 |\n",
            "===============================================================\n",
            "| Food Quality (Topic 0):         4.35 (Based on  63 reviews) |\n",
            "| Place & Staff (Topic 1):        4.33 (Based on 114 reviews) |\n",
            "| Service & Efficiency (Topic 2): 2.70 (Based on  10 reviews) |\n",
            "===============================================================\n",
            "===============================================================\n",
            "| Business Profile Scoring (139 reviews in total)             |\n",
            "===============================================================\n",
            "| ID | IhNASEZ3XnBHmuuVnWdIwA                                 |\n",
            "===============================================================\n",
            "| Food Quality (Topic 0):         4.93 (Based on  84 reviews) |\n",
            "| Place & Staff (Topic 1):        4.92 (Based on  53 reviews) |\n",
            "| Service & Efficiency (Topic 2): 5.00 (Based on   2 reviews) |\n",
            "===============================================================\n",
            "===============================================================\n",
            "| Business Profile Scoring (122 reviews in total)             |\n",
            "===============================================================\n",
            "| ID | 7sb2FYLS2sejZKxRYF9mtg                                 |\n",
            "===============================================================\n",
            "| Food Quality (Topic 0):         4.28 (Based on  18 reviews) |\n",
            "| Place & Staff (Topic 1):        4.39 (Based on  97 reviews) |\n",
            "| Service & Efficiency (Topic 2): 3.29 (Based on   7 reviews) |\n",
            "===============================================================\n",
            "===============================================================\n",
            "| Business Profile Scoring (117 reviews in total)             |\n",
            "===============================================================\n",
            "| ID | Ec9CBmL3285XkeHaNp-bSQ                                 |\n",
            "===============================================================\n",
            "| Food Quality (Topic 0):         4.30 (Based on  64 reviews) |\n",
            "| Place & Staff (Topic 1):        4.49 (Based on  37 reviews) |\n",
            "| Service & Efficiency (Topic 2): 3.38 (Based on  16 reviews) |\n",
            "===============================================================\n",
            "===============================================================\n",
            "| Business Profile Scoring (116 reviews in total)             |\n",
            "===============================================================\n",
            "| ID | eaNenRk_liZBERFFLCXqqQ                                 |\n",
            "===============================================================\n",
            "| Food Quality (Topic 0):         4.82 (Based on  50 reviews) |\n",
            "| Place & Staff (Topic 1):        4.49 (Based on  59 reviews) |\n",
            "| Service & Efficiency (Topic 2): 3.00 (Based on   7 reviews) |\n",
            "===============================================================\n",
            "===============================================================\n",
            "| Business Profile Scoring (112 reviews in total)             |\n",
            "===============================================================\n",
            "| ID | bsrj9_hFAql3dlSf244zpg                                 |\n",
            "===============================================================\n",
            "| Food Quality (Topic 0):         0.00 (Based on   0 reviews) |\n",
            "| Place & Staff (Topic 1):        3.79 (Based on 110 reviews) |\n",
            "| Service & Efficiency (Topic 2): 1.50 (Based on   2 reviews) |\n",
            "===============================================================\n",
            "===============================================================\n",
            "| Business Profile Scoring (110 reviews in total)             |\n",
            "===============================================================\n",
            "| ID | GI-CAiZ_Gg3h21PwrANB4Q                                 |\n",
            "===============================================================\n",
            "| Food Quality (Topic 0):         0.00 (Based on   0 reviews) |\n",
            "| Place & Staff (Topic 1):        4.43 (Based on  42 reviews) |\n",
            "| Service & Efficiency (Topic 2): 4.38 (Based on  68 reviews) |\n",
            "===============================================================\n",
            "===============================================================\n",
            "| Business Profile Scoring (102 reviews in total)             |\n",
            "===============================================================\n",
            "| ID | ItqPtxnayraXSlBS0EMOgg                                 |\n",
            "===============================================================\n",
            "| Food Quality (Topic 0):         5.00 (Based on   3 reviews) |\n",
            "| Place & Staff (Topic 1):        4.54 (Based on  52 reviews) |\n",
            "| Service & Efficiency (Topic 2): 4.11 (Based on  47 reviews) |\n",
            "===============================================================\n",
            "===============================================================\n",
            "| Business Profile Scoring ( 87 reviews in total)             |\n",
            "===============================================================\n",
            "| ID | d4qwVw4PcN-_2mK2o1Ro1g                                 |\n",
            "===============================================================\n",
            "| Food Quality (Topic 0):         3.50 (Based on   2 reviews) |\n",
            "| Place & Staff (Topic 1):        3.55 (Based on  71 reviews) |\n",
            "| Service & Efficiency (Topic 2): 3.07 (Based on  14 reviews) |\n",
            "===============================================================\n"
          ],
          "name": "stdout"
        }
      ]
    },
    {
      "cell_type": "code",
      "metadata": {
        "id": "ppUsWWORc18x",
        "colab": {
          "base_uri": "https://localhost:8080/"
        },
        "outputId": "80d0f3dd-7445-4bfe-ad32-ff0edf2fab3f"
      },
      "source": [
        "# Explore the avg stars for each topic: Do people review when its bad for that topic?\n",
        "reviews_df_trunc.head()\n",
        "\n",
        "reviews_0 = reviews_df_trunc.loc[reviews_df_trunc['topic'] == 0]\n",
        "reviews_0_score = sum(list(reviews_0['stars'])) / reviews_0.shape[0] if reviews_0.shape[0] > 0 else 0\n",
        "print(f'Average score for topic 0 reviews: {reviews_0_score:.2f} (Based on {reviews_0.shape[0]} reviews)')\n",
        "\n",
        "reviews_1 = reviews_df_trunc.loc[reviews_df_trunc['topic'] == 1]\n",
        "reviews_1_score = sum(list(reviews_1['stars'])) / reviews_1.shape[0] if reviews_1.shape[0] > 0 else 0\n",
        "print(f'Average score for topic 1 reviews: {reviews_1_score:.2f} (Based on {reviews_1.shape[0]} reviews)')\n",
        "\n",
        "reviews_2 = reviews_df_trunc.loc[reviews_df_trunc['topic'] == 2]\n",
        "reviews_2_score = sum(list(reviews_2['stars'])) / reviews_2.shape[0] if reviews_2.shape[0] > 0 else 0\n",
        "print(f'Average score for topic 1 reviews: {reviews_2_score:.2f} (Based on {reviews_2.shape[0]} reviews)')\n",
        "\n",
        "# I guess for food, people generally leave reviews if the food is good, not as often if food is bad"
      ],
      "execution_count": null,
      "outputs": [
        {
          "output_type": "stream",
          "text": [
            "Average score for topic 0 reviews: 4.33 (Based on 1318 reviews)\n",
            "Average score for topic 1 reviews: 3.92 (Based on 6223 reviews)\n",
            "Average score for topic 1 reviews: 3.38 (Based on 2459 reviews)\n"
          ],
          "name": "stdout"
        }
      ]
    }
  ]
}