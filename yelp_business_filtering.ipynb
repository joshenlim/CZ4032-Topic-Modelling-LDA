{
 "cells": [
  {
   "cell_type": "code",
   "execution_count": null,
   "metadata": {},
   "outputs": [],
   "source": [
    "import pandas as pd\n",
    "import matplotlib.pyplot as plt\n",
    "import seaborn as sns"
   ]
  },
  {
   "cell_type": "code",
   "execution_count": null,
   "metadata": {},
   "outputs": [],
   "source": [
    "df_business = pd.read_json('yelp_academic_dataset_business.json',lines=True)\n",
    "# df_checkin = pd.read_json('yelp_academic_dataset_checkin.json',lines=True)\n",
    "# df_tips = pd.read_json('yelp_academic_dataset_tip.json',lines=True)\n",
    "# df_user = pd.read_json('yelp_academic_dataset_user.json',lines=True)"
   ]
  },
  {
   "cell_type": "markdown",
   "metadata": {},
   "source": [
    "# Finding all categories in LA"
   ]
  },
  {
   "cell_type": "code",
   "execution_count": null,
   "metadata": {},
   "outputs": [],
   "source": [
    "df=df_business.loc[df_business['city'].str.contains('Las Vegas')]"
   ]
  },
  {
   "cell_type": "markdown",
   "metadata": {},
   "source": [
    "# Exploratory Data Analysis"
   ]
  },
  {
   "cell_type": "code",
   "execution_count": null,
   "metadata": {},
   "outputs": [],
   "source": [
    "df_business"
   ]
  },
  {
   "cell_type": "markdown",
   "metadata": {},
   "source": [
    "# null values"
   ]
  },
  {
   "cell_type": "code",
   "execution_count": null,
   "metadata": {},
   "outputs": [],
   "source": [
    "df_business.isna().any()"
   ]
  },
  {
   "cell_type": "code",
   "execution_count": null,
   "metadata": {},
   "outputs": [],
   "source": [
    "df_business.loc[df_business['categories'].isna()]"
   ]
  },
  {
   "cell_type": "markdown",
   "metadata": {},
   "source": [
    "# city counts"
   ]
  },
  {
   "cell_type": "code",
   "execution_count": null,
   "metadata": {},
   "outputs": [],
   "source": [
    "df_business['city'].unique().size"
   ]
  },
  {
   "cell_type": "code",
   "execution_count": null,
   "metadata": {
    "scrolled": false
   },
   "outputs": [],
   "source": [
    "cityCount = df_business['city'].value_counts()[:10]\n",
    "\n",
    "print(cityCount)\n",
    "\n",
    "plt.figure(figsize=(10,5))\n",
    "sns.barplot(cityCount.values,cityCount.index)\n",
    "\n",
    "plt.show()"
   ]
  },
  {
   "cell_type": "markdown",
   "metadata": {},
   "source": [
    "# name counts"
   ]
  },
  {
   "cell_type": "code",
   "execution_count": null,
   "metadata": {
    "scrolled": true
   },
   "outputs": [],
   "source": [
    "df_business['name'].value_counts()[:10]"
   ]
  },
  {
   "cell_type": "code",
   "execution_count": null,
   "metadata": {},
   "outputs": [],
   "source": [
    "nameCount = df_business['name'].value_counts()[:10]\n",
    "\n",
    "print(nameCount)\n",
    "\n",
    "plt.figure(figsize=(10,5))\n",
    "sns.barplot(nameCount.values,nameCount.index)\n",
    "plt.show()"
   ]
  },
  {
   "cell_type": "markdown",
   "metadata": {},
   "source": [
    "# Address"
   ]
  },
  {
   "cell_type": "code",
   "execution_count": null,
   "metadata": {},
   "outputs": [],
   "source": [
    "df_business['address'].value_counts()"
   ]
  },
  {
   "cell_type": "code",
   "execution_count": null,
   "metadata": {},
   "outputs": [],
   "source": [
    "addressCount = df_business['address'].value_counts()[1:10]\n",
    "\n",
    "print(addressCount)\n",
    "\n",
    "plt.figure(figsize=(10,5))\n",
    "sns.barplot(addressCount.values,addressCount.index)\n",
    "plt.show()"
   ]
  },
  {
   "cell_type": "markdown",
   "metadata": {},
   "source": [
    "# Stars"
   ]
  },
  {
   "cell_type": "code",
   "execution_count": null,
   "metadata": {},
   "outputs": [],
   "source": [
    "df_business['stars'].value_counts()"
   ]
  },
  {
   "cell_type": "code",
   "execution_count": null,
   "metadata": {},
   "outputs": [],
   "source": [
    "df_business['stars'].mean()"
   ]
  },
  {
   "cell_type": "code",
   "execution_count": null,
   "metadata": {},
   "outputs": [],
   "source": [
    "df_business['stars'].median()"
   ]
  },
  {
   "cell_type": "code",
   "execution_count": null,
   "metadata": {},
   "outputs": [],
   "source": [
    "df_business['stars'].max()"
   ]
  },
  {
   "cell_type": "code",
   "execution_count": null,
   "metadata": {},
   "outputs": [],
   "source": [
    "df_business['stars'].min()"
   ]
  },
  {
   "cell_type": "code",
   "execution_count": null,
   "metadata": {},
   "outputs": [],
   "source": [
    "df_business['stars'].std()"
   ]
  },
  {
   "cell_type": "code",
   "execution_count": null,
   "metadata": {},
   "outputs": [],
   "source": [
    "plt.hist(df_business['stars'],bins=20)\n",
    "plt.show()"
   ]
  },
  {
   "cell_type": "markdown",
   "metadata": {},
   "source": [
    "# Categories"
   ]
  },
  {
   "cell_type": "code",
   "execution_count": 10,
   "metadata": {},
   "outputs": [],
   "source": [
    "x = df_business.loc[:,['name','categories']]"
   ]
  },
  {
   "cell_type": "code",
   "execution_count": 11,
   "metadata": {},
   "outputs": [
    {
     "data": {
      "text/html": [
       "<div>\n",
       "<style scoped>\n",
       "    .dataframe tbody tr th:only-of-type {\n",
       "        vertical-align: middle;\n",
       "    }\n",
       "\n",
       "    .dataframe tbody tr th {\n",
       "        vertical-align: top;\n",
       "    }\n",
       "\n",
       "    .dataframe thead th {\n",
       "        text-align: right;\n",
       "    }\n",
       "</style>\n",
       "<table border=\"1\" class=\"dataframe\">\n",
       "  <thead>\n",
       "    <tr style=\"text-align: right;\">\n",
       "      <th></th>\n",
       "      <th>name</th>\n",
       "      <th>categories</th>\n",
       "    </tr>\n",
       "  </thead>\n",
       "  <tbody>\n",
       "    <tr>\n",
       "      <th>0</th>\n",
       "      <td>The Range At Lake Norman</td>\n",
       "      <td>Active Life, Gun/Rifle Ranges, Guns &amp; Ammo, Sh...</td>\n",
       "    </tr>\n",
       "    <tr>\n",
       "      <th>1</th>\n",
       "      <td>Carlos Santo, NMD</td>\n",
       "      <td>Health &amp; Medical, Fitness &amp; Instruction, Yoga,...</td>\n",
       "    </tr>\n",
       "    <tr>\n",
       "      <th>2</th>\n",
       "      <td>Felinus</td>\n",
       "      <td>Pets, Pet Services, Pet Groomers</td>\n",
       "    </tr>\n",
       "    <tr>\n",
       "      <th>3</th>\n",
       "      <td>Nevada House of Hose</td>\n",
       "      <td>Hardware Stores, Home Services, Building Suppl...</td>\n",
       "    </tr>\n",
       "    <tr>\n",
       "      <th>4</th>\n",
       "      <td>USE MY GUY SERVICES LLC</td>\n",
       "      <td>Home Services, Plumbing, Electricians, Handyma...</td>\n",
       "    </tr>\n",
       "    <tr>\n",
       "      <th>...</th>\n",
       "      <td>...</td>\n",
       "      <td>...</td>\n",
       "    </tr>\n",
       "    <tr>\n",
       "      <th>209388</th>\n",
       "      <td>Nishi Sushi</td>\n",
       "      <td>Japanese, Sushi Bars, Restaurants</td>\n",
       "    </tr>\n",
       "    <tr>\n",
       "      <th>209389</th>\n",
       "      <td>Walmart</td>\n",
       "      <td>Department Stores, Food, Mobile Phones, Fashio...</td>\n",
       "    </tr>\n",
       "    <tr>\n",
       "      <th>209390</th>\n",
       "      <td>Five Guys</td>\n",
       "      <td>American (New), Food, Burgers, Restaurants, Fa...</td>\n",
       "    </tr>\n",
       "    <tr>\n",
       "      <th>209391</th>\n",
       "      <td>Indian Trail Dog Training</td>\n",
       "      <td>Pet Services, Pet Training, Pets</td>\n",
       "    </tr>\n",
       "    <tr>\n",
       "      <th>209392</th>\n",
       "      <td>Kudlow Ye</td>\n",
       "      <td>Tax Services, Professional Services, Accountan...</td>\n",
       "    </tr>\n",
       "  </tbody>\n",
       "</table>\n",
       "<p>209393 rows × 2 columns</p>\n",
       "</div>"
      ],
      "text/plain": [
       "                             name  \\\n",
       "0        The Range At Lake Norman   \n",
       "1               Carlos Santo, NMD   \n",
       "2                         Felinus   \n",
       "3            Nevada House of Hose   \n",
       "4         USE MY GUY SERVICES LLC   \n",
       "...                           ...   \n",
       "209388                Nishi Sushi   \n",
       "209389                    Walmart   \n",
       "209390                  Five Guys   \n",
       "209391  Indian Trail Dog Training   \n",
       "209392                  Kudlow Ye   \n",
       "\n",
       "                                               categories  \n",
       "0       Active Life, Gun/Rifle Ranges, Guns & Ammo, Sh...  \n",
       "1       Health & Medical, Fitness & Instruction, Yoga,...  \n",
       "2                        Pets, Pet Services, Pet Groomers  \n",
       "3       Hardware Stores, Home Services, Building Suppl...  \n",
       "4       Home Services, Plumbing, Electricians, Handyma...  \n",
       "...                                                   ...  \n",
       "209388                  Japanese, Sushi Bars, Restaurants  \n",
       "209389  Department Stores, Food, Mobile Phones, Fashio...  \n",
       "209390  American (New), Food, Burgers, Restaurants, Fa...  \n",
       "209391                   Pet Services, Pet Training, Pets  \n",
       "209392  Tax Services, Professional Services, Accountan...  \n",
       "\n",
       "[209393 rows x 2 columns]"
      ]
     },
     "execution_count": 11,
     "metadata": {},
     "output_type": "execute_result"
    }
   ],
   "source": [
    "x"
   ]
  },
  {
   "cell_type": "code",
   "execution_count": 12,
   "metadata": {},
   "outputs": [],
   "source": [
    "x.categories = x.categories.apply(lambda x: [y.strip() for y in x.split(',')] if x!=None else \" \")"
   ]
  },
  {
   "cell_type": "code",
   "execution_count": 13,
   "metadata": {},
   "outputs": [],
   "source": [
    "x = x.explode(column='categories')"
   ]
  },
  {
   "cell_type": "code",
   "execution_count": 15,
   "metadata": {},
   "outputs": [
    {
     "data": {
      "text/plain": [
       "Restaurants             63944\n",
       "Shopping                34644\n",
       "Food                    32991\n",
       "Home Services           22487\n",
       "Beauty & Spas           20520\n",
       "                        ...  \n",
       "Elevator Services           1\n",
       "Sport Equipment Hire        1\n",
       "Ceremonial Clothing         1\n",
       "Tempura                     1\n",
       "Backshop                    1\n",
       "Name: categories, Length: 1337, dtype: int64"
      ]
     },
     "execution_count": 15,
     "metadata": {},
     "output_type": "execute_result"
    }
   ],
   "source": [
    "x['categories'].value_counts()"
   ]
  },
  {
   "cell_type": "code",
   "execution_count": 16,
   "metadata": {},
   "outputs": [
    {
     "name": "stdout",
     "output_type": "stream",
     "text": [
      "Shopping            34644\n",
      "Food                32991\n",
      "Home Services       22487\n",
      "Beauty & Spas       20520\n",
      "Health & Medical    19227\n",
      "Local Services      15783\n",
      "Automotive          14720\n",
      "Nightlife           14211\n",
      "Bars                12400\n",
      "Name: categories, dtype: int64\n"
     ]
    },
    {
     "data": {
      "image/png": "[encoded data removed]",
      "text/plain": [
       "<Figure size 720x360 with 1 Axes>"
      ]
     },
     "metadata": {
      "needs_background": "light"
     },
     "output_type": "display_data"
    }
   ],
   "source": [
    "catCount = x['categories'].value_counts()[1:10]\n",
    "\n",
    "print(catCount)\n",
    "\n",
    "plt.figure(figsize=(10,5))\n",
    "sns.barplot(catCount.values,catCount.index)\n",
    "plt.show()"
   ]
  },
  {
   "cell_type": "markdown",
   "metadata": {},
   "source": [
    "# Extract categories for filtering"
   ]
  },
  {
   "cell_type": "code",
   "execution_count": null,
   "metadata": {},
   "outputs": [],
   "source": [
    "def findCat(df):\n",
    "    if df.categories != None:\n",
    "        listOfCat=df.categories.split(',')\n",
    "        return listOfCat\n",
    "    else:\n",
    "        return []"
   ]
  },
  {
   "cell_type": "code",
   "execution_count": null,
   "metadata": {
    "scrolled": true
   },
   "outputs": [],
   "source": [
    "categories=[]\n",
    "for i in range(len(df)):\n",
    "    categories = categories + findCat(df.iloc[i])"
   ]
  },
  {
   "cell_type": "code",
   "execution_count": null,
   "metadata": {
    "scrolled": true
   },
   "outputs": [],
   "source": [
    "categories.sort()"
   ]
  },
  {
   "cell_type": "code",
   "execution_count": null,
   "metadata": {},
   "outputs": [],
   "source": [
    "res = []\n",
    "for each in categories:\n",
    "    if each not in res:\n",
    "        res.append(each)"
   ]
  },
  {
   "cell_type": "code",
   "execution_count": null,
   "metadata": {},
   "outputs": [],
   "source": [
    "df2 = pd.DataFrame()"
   ]
  },
  {
   "cell_type": "code",
   "execution_count": null,
   "metadata": {},
   "outputs": [],
   "source": [
    "df2['categories']=res"
   ]
  },
  {
   "cell_type": "code",
   "execution_count": null,
   "metadata": {},
   "outputs": [],
   "source": [
    "df2.to_csv('categories.csv')\n",
    "\n",
    "# from here manually filter categories belonging to food.\n",
    "# list of food categories in 'categories_filtered.csv'"
   ]
  },
  {
   "cell_type": "markdown",
   "metadata": {},
   "source": [
    "# Finding business that are food"
   ]
  },
  {
   "cell_type": "code",
   "execution_count": null,
   "metadata": {
    "scrolled": true
   },
   "outputs": [],
   "source": [
    "# Extract all categories_filtered into a list\n",
    "\n",
    "df_categories = pd.read_csv('categories_filtered.csv',index_col=0)\n",
    "\n",
    "catlist = []\n",
    "for i in range(len(df_categories)+1):\n",
    "    if i!=29:\n",
    "        catlist.append(df_categories['categories'][i])"
   ]
  },
  {
   "cell_type": "markdown",
   "metadata": {},
   "source": [
    "# extracting rows that contains categories filtered"
   ]
  },
  {
   "cell_type": "code",
   "execution_count": null,
   "metadata": {},
   "outputs": [],
   "source": [
    "def findCat(x):\n",
    "    res = []\n",
    "    if x != None:\n",
    "        xsplit = x.split(',')\n",
    "        for each in xsplit:\n",
    "            if each.strip() in catlist:\n",
    "                res.append(each)\n",
    "        if len(res)==0:\n",
    "            return 0\n",
    "        else: return res\n",
    "    else:\n",
    "        return 0"
   ]
  },
  {
   "cell_type": "code",
   "execution_count": null,
   "metadata": {
    "scrolled": true
   },
   "outputs": [],
   "source": [
    "df2=pd.DataFrame(df['categories'].apply(lambda x:findCat(x)))"
   ]
  },
  {
   "cell_type": "code",
   "execution_count": null,
   "metadata": {},
   "outputs": [],
   "source": [
    "indexes=df2[df2['categories']!=0].index"
   ]
  },
  {
   "cell_type": "code",
   "execution_count": null,
   "metadata": {
    "scrolled": true
   },
   "outputs": [],
   "source": [
    "columnsWeNeed = ['business_id', 'latitude', 'longitude', 'stars', 'review_count', 'categories']\n",
    "\n",
    "df_out = df_business.iloc[indexes].loc[:,columnsWeNeed].reset_index(drop=True)"
   ]
  },
  {
   "cell_type": "code",
   "execution_count": null,
   "metadata": {},
   "outputs": [],
   "source": [
    "df_out"
   ]
  },
  {
   "cell_type": "code",
   "execution_count": null,
   "metadata": {},
   "outputs": [],
   "source": [
    "df_out.to_csv('yelp_business.csv')"
   ]
  },
  {
   "cell_type": "markdown",
   "metadata": {},
   "source": [
    "# exploration"
   ]
  },
  {
   "cell_type": "code",
   "execution_count": null,
   "metadata": {},
   "outputs": [],
   "source": [
    "df = pd.read_csv('yelp_business.csv')"
   ]
  }
 ],
 "metadata": {
  "kernelspec": {
   "display_name": "Python 3",
   "language": "python",
   "name": "python3"
  },
  "language_info": {
   "codemirror_mode": {
    "name": "ipython",
    "version": 3
   },
   "file_extension": ".py",
   "mimetype": "text/x-python",
   "name": "python",
   "nbconvert_exporter": "python",
   "pygments_lexer": "ipython3",
   "version": "3.7.7"
  }
 },
 "nbformat": 4,
 "nbformat_minor": 4
}
