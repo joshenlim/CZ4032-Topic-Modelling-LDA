{
  "nbformat": 4,
  "nbformat_minor": 0,
  "metadata": {
    "kernelspec": {
      "display_name": "Python 3",
      "language": "python",
      "name": "python3"
    },
    "language_info": {
      "codemirror_mode": {
        "name": "ipython",
        "version": 3
      },
      "file_extension": ".py",
      "mimetype": "text/x-python",
      "name": "python",
      "nbconvert_exporter": "python",
      "pygments_lexer": "ipython3",
      "version": "3.7.7"
    },
    "colab": {
      "name": "Yelp dataset exploratory.ipynb",
      "provenance": [],
      "toc_visible": true
    },
    "accelerator": "GPU"
  },
  "cells": [
    {
      "cell_type": "code",
      "metadata": {
        "id": "GRa1dMhjeSWh"
      },
      "source": [
        "import pandas as pd"
      ],
      "execution_count": null,
      "outputs": []
    },
    {
      "cell_type": "code",
      "metadata": {
        "id": "51YhIzXceSWn"
      },
      "source": [
        "df_business = pd.read_json('yelp_academic_dataset_business.json',lines=True)"
      ],
      "execution_count": null,
      "outputs": []
    },
    {
      "cell_type": "markdown",
      "metadata": {
        "id": "iDdcbeGAeSWp"
      },
      "source": [
        "# Finding all categories in LA"
      ]
    },
    {
      "cell_type": "code",
      "metadata": {
        "id": "3phcI71KeSWp"
      },
      "source": [
        "df=df_business.loc[df_business['city'].str.contains('Las Vegas')]"
      ],
      "execution_count": null,
      "outputs": []
    },
    {
      "cell_type": "markdown",
      "metadata": {
        "id": "tfnN1zrueSWs"
      },
      "source": [
        "# Extract categories for filtering"
      ]
    },
    {
      "cell_type": "code",
      "metadata": {
        "id": "-BKGmmC0eSWt"
      },
      "source": [
        "def findCat(df):\n",
        "    if df.categories != None:\n",
        "        listOfCat=df.categories.split(',')\n",
        "        return listOfCat\n",
        "    else:\n",
        "        return []"
      ],
      "execution_count": null,
      "outputs": []
    },
    {
      "cell_type": "code",
      "metadata": {
        "scrolled": true,
        "id": "DOcwytIheSWv"
      },
      "source": [
        "categories=[]\n",
        "for i in range(len(df)):\n",
        "    categories = categories + findCat(df.iloc[i])"
      ],
      "execution_count": null,
      "outputs": []
    },
    {
      "cell_type": "code",
      "metadata": {
        "scrolled": true,
        "id": "riXrs5eNeSWx"
      },
      "source": [
        "categories.sort()"
      ],
      "execution_count": null,
      "outputs": []
    },
    {
      "cell_type": "code",
      "metadata": {
        "id": "PZ9dCuY8eSWz"
      },
      "source": [
        "res = []\n",
        "for each in categories:\n",
        "    if each not in res:\n",
        "        res.append(each)"
      ],
      "execution_count": null,
      "outputs": []
    },
    {
      "cell_type": "code",
      "metadata": {
        "id": "r8tgFM1NeSW1"
      },
      "source": [
        "df2 = pd.DataFrame()"
      ],
      "execution_count": null,
      "outputs": []
    },
    {
      "cell_type": "code",
      "metadata": {
        "id": "_pzeJhMNeSW3"
      },
      "source": [
        "df2['categories']=res"
      ],
      "execution_count": null,
      "outputs": []
    },
    {
      "cell_type": "code",
      "metadata": {
        "id": "sSy1G4_ZeSW4"
      },
      "source": [
        "df2.to_csv('categories.csv')\n",
        "\n",
        "# from here manually filter categories belonging to food.\n",
        "# list of food categories in 'categories_filtered.csv'"
      ],
      "execution_count": null,
      "outputs": []
    },
    {
      "cell_type": "markdown",
      "metadata": {
        "id": "hHEImvzJeSW6"
      },
      "source": [
        "# Finding business that are food"
      ]
    },
    {
      "cell_type": "code",
      "metadata": {
        "scrolled": true,
        "id": "oSCEobLseSW6"
      },
      "source": [
        "# Extract all categories_filtered into a list\n",
        "\n",
        "df_categories = pd.read_csv('categories_filtered.csv',index_col=0)\n",
        "\n",
        "catlist = []\n",
        "for i in range(len(df_categories)+1):\n",
        "    if i!=29:\n",
        "        catlist.append(df_categories['categories'][i])"
      ],
      "execution_count": null,
      "outputs": []
    },
    {
      "cell_type": "markdown",
      "metadata": {
        "id": "HVrrMlJSeSW8"
      },
      "source": [
        "# extracting rows that contains categories filtered"
      ]
    },
    {
      "cell_type": "code",
      "metadata": {
        "id": "1m4DkOymeSW9"
      },
      "source": [
        "def findCat(x):\n",
        "    res = []\n",
        "    if x != None:\n",
        "        xsplit = x.split(',')\n",
        "        for each in xsplit:\n",
        "            if each.strip() in catlist:\n",
        "                res.append(each)\n",
        "        if len(res)==0:\n",
        "            return 0\n",
        "        else: return res\n",
        "    else:\n",
        "        return 0"
      ],
      "execution_count": null,
      "outputs": []
    },
    {
      "cell_type": "code",
      "metadata": {
        "scrolled": true,
        "id": "VMAbAnTPeSW_"
      },
      "source": [
        "df2=pd.DataFrame(df['categories'].apply(lambda x:findCat(x)))"
      ],
      "execution_count": null,
      "outputs": []
    },
    {
      "cell_type": "code",
      "metadata": {
        "id": "U2B75ie9eSXA"
      },
      "source": [
        "indexes=df2[df2['categories']!=0].index"
      ],
      "execution_count": null,
      "outputs": []
    },
    {
      "cell_type": "code",
      "metadata": {
        "scrolled": true,
        "id": "WKnLDT_keSXC"
      },
      "source": [
        "columnsWeNeed = ['business_id', 'latitude', 'longitude', 'stars', 'review_count', 'categories']\n",
        "\n",
        "df_out = df_business.iloc[indexes].loc[:,columnsWeNeed].reset_index(drop=True)"
      ],
      "execution_count": null,
      "outputs": []
    },
    {
      "cell_type": "code",
      "metadata": {
        "id": "1vRg531ceSXE",
        "outputId": "5c84e77a-85eb-44e2-878e-51906487f405"
      },
      "source": [
        "df_out"
      ],
      "execution_count": null,
      "outputs": [
        {
          "output_type": "execute_result",
          "data": {
            "text/html": [
              "<div>\n",
              "<style scoped>\n",
              "    .dataframe tbody tr th:only-of-type {\n",
              "        vertical-align: middle;\n",
              "    }\n",
              "\n",
              "    .dataframe tbody tr th {\n",
              "        vertical-align: top;\n",
              "    }\n",
              "\n",
              "    .dataframe thead th {\n",
              "        text-align: right;\n",
              "    }\n",
              "</style>\n",
              "<table border=\"1\" class=\"dataframe\">\n",
              "  <thead>\n",
              "    <tr style=\"text-align: right;\">\n",
              "      <th></th>\n",
              "      <th>business_id</th>\n",
              "      <th>latitude</th>\n",
              "      <th>longitude</th>\n",
              "      <th>stars</th>\n",
              "      <th>review_count</th>\n",
              "      <th>categories</th>\n",
              "    </tr>\n",
              "  </thead>\n",
              "  <tbody>\n",
              "    <tr>\n",
              "      <th>0</th>\n",
              "      <td>fnZrZlqW1Z8iWgTVDfv_MA</td>\n",
              "      <td>36.099738</td>\n",
              "      <td>-115.301568</td>\n",
              "      <td>2.5</td>\n",
              "      <td>15</td>\n",
              "      <td>Mexican, Restaurants, Fast Food</td>\n",
              "    </tr>\n",
              "    <tr>\n",
              "      <th>1</th>\n",
              "      <td>fhNf_sg-XzZ3e7HEVGuOZg</td>\n",
              "      <td>36.071196</td>\n",
              "      <td>-115.207463</td>\n",
              "      <td>3.0</td>\n",
              "      <td>10</td>\n",
              "      <td>Burgers, Restaurants, American (Traditional), ...</td>\n",
              "    </tr>\n",
              "    <tr>\n",
              "      <th>2</th>\n",
              "      <td>OLciBerMDmD_WYzfYbmkqA</td>\n",
              "      <td>36.110799</td>\n",
              "      <td>-115.172507</td>\n",
              "      <td>3.5</td>\n",
              "      <td>4</td>\n",
              "      <td>Nightlife, Arts &amp; Entertainment, Bars, Lounges...</td>\n",
              "    </tr>\n",
              "    <tr>\n",
              "      <th>3</th>\n",
              "      <td>OWkS1FXNJbozn-qPg3LWxg</td>\n",
              "      <td>36.128561</td>\n",
              "      <td>-115.171130</td>\n",
              "      <td>4.5</td>\n",
              "      <td>11</td>\n",
              "      <td>Food, Food Trucks, Restaurants, Pizza</td>\n",
              "    </tr>\n",
              "    <tr>\n",
              "      <th>4</th>\n",
              "      <td>MTx-Zdl_KcU_z9G832XAjg</td>\n",
              "      <td>36.307495</td>\n",
              "      <td>-115.279059</td>\n",
              "      <td>2.5</td>\n",
              "      <td>37</td>\n",
              "      <td>Fast Food, Restaurants</td>\n",
              "    </tr>\n",
              "    <tr>\n",
              "      <th>...</th>\n",
              "      <td>...</td>\n",
              "      <td>...</td>\n",
              "      <td>...</td>\n",
              "      <td>...</td>\n",
              "      <td>...</td>\n",
              "      <td>...</td>\n",
              "    </tr>\n",
              "    <tr>\n",
              "      <th>10897</th>\n",
              "      <td>tv-WIUQifcp5J9pUKoiE3Q</td>\n",
              "      <td>36.076518</td>\n",
              "      <td>-115.153343</td>\n",
              "      <td>4.0</td>\n",
              "      <td>69</td>\n",
              "      <td>Food, Asian Fusion, Food Trucks, Restaurants</td>\n",
              "    </tr>\n",
              "    <tr>\n",
              "      <th>10898</th>\n",
              "      <td>kGVAle6VpDvZHlEeTB2WhA</td>\n",
              "      <td>36.035739</td>\n",
              "      <td>-115.171471</td>\n",
              "      <td>4.0</td>\n",
              "      <td>10</td>\n",
              "      <td>Delis, Restaurants, Sandwiches, Food, Pizza</td>\n",
              "    </tr>\n",
              "    <tr>\n",
              "      <th>10899</th>\n",
              "      <td>aJK0MWXKgXIgQUCM9fqSJQ</td>\n",
              "      <td>36.129782</td>\n",
              "      <td>-115.274674</td>\n",
              "      <td>3.5</td>\n",
              "      <td>69</td>\n",
              "      <td>Pizza, Italian, Restaurants</td>\n",
              "    </tr>\n",
              "    <tr>\n",
              "      <th>10900</th>\n",
              "      <td>5VXlHFrYZZzj7zfZEsz5nQ</td>\n",
              "      <td>36.105289</td>\n",
              "      <td>-115.174037</td>\n",
              "      <td>3.0</td>\n",
              "      <td>279</td>\n",
              "      <td>Chinese, Restaurants</td>\n",
              "    </tr>\n",
              "    <tr>\n",
              "      <th>10901</th>\n",
              "      <td>wjZ12shpUWAy4Boy0G5z1g</td>\n",
              "      <td>36.099378</td>\n",
              "      <td>-115.171029</td>\n",
              "      <td>1.5</td>\n",
              "      <td>9</td>\n",
              "      <td>Restaurants, Buffets</td>\n",
              "    </tr>\n",
              "  </tbody>\n",
              "</table>\n",
              "<p>10902 rows × 6 columns</p>\n",
              "</div>"
            ],
            "text/plain": [
              "                  business_id   latitude   longitude  stars  review_count  \\\n",
              "0      fnZrZlqW1Z8iWgTVDfv_MA  36.099738 -115.301568    2.5            15   \n",
              "1      fhNf_sg-XzZ3e7HEVGuOZg  36.071196 -115.207463    3.0            10   \n",
              "2      OLciBerMDmD_WYzfYbmkqA  36.110799 -115.172507    3.5             4   \n",
              "3      OWkS1FXNJbozn-qPg3LWxg  36.128561 -115.171130    4.5            11   \n",
              "4      MTx-Zdl_KcU_z9G832XAjg  36.307495 -115.279059    2.5            37   \n",
              "...                       ...        ...         ...    ...           ...   \n",
              "10897  tv-WIUQifcp5J9pUKoiE3Q  36.076518 -115.153343    4.0            69   \n",
              "10898  kGVAle6VpDvZHlEeTB2WhA  36.035739 -115.171471    4.0            10   \n",
              "10899  aJK0MWXKgXIgQUCM9fqSJQ  36.129782 -115.274674    3.5            69   \n",
              "10900  5VXlHFrYZZzj7zfZEsz5nQ  36.105289 -115.174037    3.0           279   \n",
              "10901  wjZ12shpUWAy4Boy0G5z1g  36.099378 -115.171029    1.5             9   \n",
              "\n",
              "                                              categories  \n",
              "0                        Mexican, Restaurants, Fast Food  \n",
              "1      Burgers, Restaurants, American (Traditional), ...  \n",
              "2      Nightlife, Arts & Entertainment, Bars, Lounges...  \n",
              "3                  Food, Food Trucks, Restaurants, Pizza  \n",
              "4                                 Fast Food, Restaurants  \n",
              "...                                                  ...  \n",
              "10897       Food, Asian Fusion, Food Trucks, Restaurants  \n",
              "10898        Delis, Restaurants, Sandwiches, Food, Pizza  \n",
              "10899                        Pizza, Italian, Restaurants  \n",
              "10900                               Chinese, Restaurants  \n",
              "10901                               Restaurants, Buffets  \n",
              "\n",
              "[10902 rows x 6 columns]"
            ]
          },
          "metadata": {
            "tags": []
          },
          "execution_count": 268
        }
      ]
    },
    {
      "cell_type": "code",
      "metadata": {
        "id": "hZl6aTHEeSXF"
      },
      "source": [
        "df_out.to_csv('yelp_business.csv')"
      ],
      "execution_count": null,
      "outputs": []
    },
    {
      "cell_type": "markdown",
      "metadata": {
        "id": "UDr7_xbveSXH"
      },
      "source": [
        "# exploration"
      ]
    },
    {
      "cell_type": "code",
      "metadata": {
        "id": "sBtnq3QVeSXI"
      },
      "source": [
        "df = pd.read_csv('yelp_business.csv')"
      ],
      "execution_count": null,
      "outputs": []
    },
    {
      "cell_type": "code",
      "metadata": {
        "id": "jc9NkjBZeSXK",
        "outputId": "42a02549-dc49-4b8f-9bb1-d61434f31f3d"
      },
      "source": [
        "df"
      ],
      "execution_count": null,
      "outputs": [
        {
          "output_type": "execute_result",
          "data": {
            "text/html": [
              "<div>\n",
              "<style scoped>\n",
              "    .dataframe tbody tr th:only-of-type {\n",
              "        vertical-align: middle;\n",
              "    }\n",
              "\n",
              "    .dataframe tbody tr th {\n",
              "        vertical-align: top;\n",
              "    }\n",
              "\n",
              "    .dataframe thead th {\n",
              "        text-align: right;\n",
              "    }\n",
              "</style>\n",
              "<table border=\"1\" class=\"dataframe\">\n",
              "  <thead>\n",
              "    <tr style=\"text-align: right;\">\n",
              "      <th></th>\n",
              "      <th>Unnamed: 0</th>\n",
              "      <th>business_id</th>\n",
              "      <th>latitude</th>\n",
              "      <th>longitude</th>\n",
              "      <th>stars</th>\n",
              "      <th>review_count</th>\n",
              "      <th>categories</th>\n",
              "    </tr>\n",
              "  </thead>\n",
              "  <tbody>\n",
              "    <tr>\n",
              "      <th>0</th>\n",
              "      <td>0</td>\n",
              "      <td>fnZrZlqW1Z8iWgTVDfv_MA</td>\n",
              "      <td>36.099738</td>\n",
              "      <td>-115.301568</td>\n",
              "      <td>2.5</td>\n",
              "      <td>15</td>\n",
              "      <td>Mexican, Restaurants, Fast Food</td>\n",
              "    </tr>\n",
              "    <tr>\n",
              "      <th>1</th>\n",
              "      <td>1</td>\n",
              "      <td>fhNf_sg-XzZ3e7HEVGuOZg</td>\n",
              "      <td>36.071196</td>\n",
              "      <td>-115.207463</td>\n",
              "      <td>3.0</td>\n",
              "      <td>10</td>\n",
              "      <td>Burgers, Restaurants, American (Traditional), ...</td>\n",
              "    </tr>\n",
              "    <tr>\n",
              "      <th>2</th>\n",
              "      <td>2</td>\n",
              "      <td>OLciBerMDmD_WYzfYbmkqA</td>\n",
              "      <td>36.110799</td>\n",
              "      <td>-115.172507</td>\n",
              "      <td>3.5</td>\n",
              "      <td>4</td>\n",
              "      <td>Nightlife, Arts &amp; Entertainment, Bars, Lounges...</td>\n",
              "    </tr>\n",
              "    <tr>\n",
              "      <th>3</th>\n",
              "      <td>3</td>\n",
              "      <td>OWkS1FXNJbozn-qPg3LWxg</td>\n",
              "      <td>36.128561</td>\n",
              "      <td>-115.171130</td>\n",
              "      <td>4.5</td>\n",
              "      <td>11</td>\n",
              "      <td>Food, Food Trucks, Restaurants, Pizza</td>\n",
              "    </tr>\n",
              "    <tr>\n",
              "      <th>4</th>\n",
              "      <td>4</td>\n",
              "      <td>MTx-Zdl_KcU_z9G832XAjg</td>\n",
              "      <td>36.307495</td>\n",
              "      <td>-115.279059</td>\n",
              "      <td>2.5</td>\n",
              "      <td>37</td>\n",
              "      <td>Fast Food, Restaurants</td>\n",
              "    </tr>\n",
              "    <tr>\n",
              "      <th>...</th>\n",
              "      <td>...</td>\n",
              "      <td>...</td>\n",
              "      <td>...</td>\n",
              "      <td>...</td>\n",
              "      <td>...</td>\n",
              "      <td>...</td>\n",
              "      <td>...</td>\n",
              "    </tr>\n",
              "    <tr>\n",
              "      <th>10897</th>\n",
              "      <td>10897</td>\n",
              "      <td>tv-WIUQifcp5J9pUKoiE3Q</td>\n",
              "      <td>36.076518</td>\n",
              "      <td>-115.153343</td>\n",
              "      <td>4.0</td>\n",
              "      <td>69</td>\n",
              "      <td>Food, Asian Fusion, Food Trucks, Restaurants</td>\n",
              "    </tr>\n",
              "    <tr>\n",
              "      <th>10898</th>\n",
              "      <td>10898</td>\n",
              "      <td>kGVAle6VpDvZHlEeTB2WhA</td>\n",
              "      <td>36.035739</td>\n",
              "      <td>-115.171471</td>\n",
              "      <td>4.0</td>\n",
              "      <td>10</td>\n",
              "      <td>Delis, Restaurants, Sandwiches, Food, Pizza</td>\n",
              "    </tr>\n",
              "    <tr>\n",
              "      <th>10899</th>\n",
              "      <td>10899</td>\n",
              "      <td>aJK0MWXKgXIgQUCM9fqSJQ</td>\n",
              "      <td>36.129782</td>\n",
              "      <td>-115.274674</td>\n",
              "      <td>3.5</td>\n",
              "      <td>69</td>\n",
              "      <td>Pizza, Italian, Restaurants</td>\n",
              "    </tr>\n",
              "    <tr>\n",
              "      <th>10900</th>\n",
              "      <td>10900</td>\n",
              "      <td>5VXlHFrYZZzj7zfZEsz5nQ</td>\n",
              "      <td>36.105289</td>\n",
              "      <td>-115.174037</td>\n",
              "      <td>3.0</td>\n",
              "      <td>279</td>\n",
              "      <td>Chinese, Restaurants</td>\n",
              "    </tr>\n",
              "    <tr>\n",
              "      <th>10901</th>\n",
              "      <td>10901</td>\n",
              "      <td>wjZ12shpUWAy4Boy0G5z1g</td>\n",
              "      <td>36.099378</td>\n",
              "      <td>-115.171028</td>\n",
              "      <td>1.5</td>\n",
              "      <td>9</td>\n",
              "      <td>Restaurants, Buffets</td>\n",
              "    </tr>\n",
              "  </tbody>\n",
              "</table>\n",
              "<p>10902 rows × 7 columns</p>\n",
              "</div>"
            ],
            "text/plain": [
              "       Unnamed: 0             business_id   latitude   longitude  stars  \\\n",
              "0               0  fnZrZlqW1Z8iWgTVDfv_MA  36.099738 -115.301568    2.5   \n",
              "1               1  fhNf_sg-XzZ3e7HEVGuOZg  36.071196 -115.207463    3.0   \n",
              "2               2  OLciBerMDmD_WYzfYbmkqA  36.110799 -115.172507    3.5   \n",
              "3               3  OWkS1FXNJbozn-qPg3LWxg  36.128561 -115.171130    4.5   \n",
              "4               4  MTx-Zdl_KcU_z9G832XAjg  36.307495 -115.279059    2.5   \n",
              "...           ...                     ...        ...         ...    ...   \n",
              "10897       10897  tv-WIUQifcp5J9pUKoiE3Q  36.076518 -115.153343    4.0   \n",
              "10898       10898  kGVAle6VpDvZHlEeTB2WhA  36.035739 -115.171471    4.0   \n",
              "10899       10899  aJK0MWXKgXIgQUCM9fqSJQ  36.129782 -115.274674    3.5   \n",
              "10900       10900  5VXlHFrYZZzj7zfZEsz5nQ  36.105289 -115.174037    3.0   \n",
              "10901       10901  wjZ12shpUWAy4Boy0G5z1g  36.099378 -115.171028    1.5   \n",
              "\n",
              "       review_count                                         categories  \n",
              "0                15                    Mexican, Restaurants, Fast Food  \n",
              "1                10  Burgers, Restaurants, American (Traditional), ...  \n",
              "2                 4  Nightlife, Arts & Entertainment, Bars, Lounges...  \n",
              "3                11              Food, Food Trucks, Restaurants, Pizza  \n",
              "4                37                             Fast Food, Restaurants  \n",
              "...             ...                                                ...  \n",
              "10897            69       Food, Asian Fusion, Food Trucks, Restaurants  \n",
              "10898            10        Delis, Restaurants, Sandwiches, Food, Pizza  \n",
              "10899            69                        Pizza, Italian, Restaurants  \n",
              "10900           279                               Chinese, Restaurants  \n",
              "10901             9                               Restaurants, Buffets  \n",
              "\n",
              "[10902 rows x 7 columns]"
            ]
          },
          "metadata": {
            "tags": []
          },
          "execution_count": 17
        }
      ]
    },
    {
      "cell_type": "code",
      "metadata": {
        "id": "-rTRhhvWeSXN"
      },
      "source": [
        ""
      ],
      "execution_count": null,
      "outputs": []
    }
  ]
}